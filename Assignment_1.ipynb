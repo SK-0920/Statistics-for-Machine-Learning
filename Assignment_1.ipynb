{
 "cells": [
  {
   "cell_type": "markdown",
   "metadata": {
    "id": "XMvqQFs1ERE-"
   },
   "source": [
    "# **Mini Project-1**"
   ]
  },
  {
   "cell_type": "markdown",
   "metadata": {
    "id": "7CMkW2uxERFF"
   },
   "source": [
    "## M.Tech "
   ]
  },
  {
   "cell_type": "markdown",
   "metadata": {
    "id": "ih5xV04uERFH"
   },
   "source": [
    "### Question -1(20 Marks)"
   ]
  },
  {
   "cell_type": "markdown",
   "metadata": {
    "id": "c1F3nYdGdn6R"
   },
   "source": [
    "<h1 style=\"color: blue; font-family: Georgia; text-align: center;\">\n",
    "    <b>Assignment_1</b>\n",
    "</h1>"
   ]
  },
  {
   "cell_type": "markdown",
   "metadata": {
    "id": "d9YOuCEhERFI"
   },
   "source": [
    "a.Read the Dataset \"turnout.csv\" (1 mark)\n",
    "\n",
    "b.Identify non-numerical inputs and convert into numerical wherever needed (3 marks) (*Hint: Use replace function if needed)\n",
    "\n",
    "c. Check the dataset for null values. If yes, replace them with suitable average value. (2 marks) (*Think out of box)\n",
    "\n",
    "d.Find mean, median and mode for atleast one possible column. (3 marks)\n",
    "\n",
    "e.Check the outliers and remove if any. Is it always a good practice to remove outliers? (3 marks)\n",
    "\n",
    "f.Find the appropriate columns and do encoding based on your understanding. (4 marks)\n",
    "\n",
    "g.Plot the heatmap for the dataset with the applicable columns (4 marks)\n",
    "\n"
   ]
  },
  {
   "cell_type": "code",
   "execution_count": 198,
   "metadata": {
    "id": "qnQgOXQYERFJ"
   },
   "outputs": [],
   "source": [
    "import pandas as pd\n",
    "import numpy as np\n",
    "import seaborn as sns\n"
   ]
  },
  {
   "cell_type": "markdown",
   "metadata": {
    "id": "AdGDjSCUblrp"
   },
   "source": [
    "#### a. Read the Dataset \"turnout.csv\" (1 mark)"
   ]
  },
  {
   "cell_type": "code",
   "execution_count": 201,
   "metadata": {
    "id": "_I_S2aosERFL"
   },
   "outputs": [],
   "source": [
    "turnout = pd.read_csv(\"turnout.csv\", encoding='ISO-8859-1')"
   ]
  },
  {
   "cell_type": "code",
   "execution_count": 203,
   "metadata": {},
   "outputs": [
    {
     "data": {
      "text/html": [
       "<div>\n",
       "<style scoped>\n",
       "    .dataframe tbody tr th:only-of-type {\n",
       "        vertical-align: middle;\n",
       "    }\n",
       "\n",
       "    .dataframe tbody tr th {\n",
       "        vertical-align: top;\n",
       "    }\n",
       "\n",
       "    .dataframe thead th {\n",
       "        text-align: right;\n",
       "    }\n",
       "</style>\n",
       "<table border=\"1\" class=\"dataframe\">\n",
       "  <thead>\n",
       "    <tr style=\"text-align: right;\">\n",
       "      <th></th>\n",
       "      <th>Employee ID</th>\n",
       "      <th>event</th>\n",
       "      <th>gender</th>\n",
       "      <th>age</th>\n",
       "      <th>industry</th>\n",
       "      <th>profession</th>\n",
       "      <th>traffic</th>\n",
       "      <th>coach</th>\n",
       "      <th>head_gender</th>\n",
       "      <th>greywage</th>\n",
       "      <th>way</th>\n",
       "      <th>extraversion</th>\n",
       "      <th>independ</th>\n",
       "      <th>selfcontrol</th>\n",
       "      <th>anxiety</th>\n",
       "      <th>novator</th>\n",
       "    </tr>\n",
       "  </thead>\n",
       "  <tbody>\n",
       "    <tr>\n",
       "      <th>0</th>\n",
       "      <td>1011</td>\n",
       "      <td>1</td>\n",
       "      <td>m</td>\n",
       "      <td>35.0</td>\n",
       "      <td>Banks</td>\n",
       "      <td>HR</td>\n",
       "      <td>rabrecNErab</td>\n",
       "      <td>no</td>\n",
       "      <td>f</td>\n",
       "      <td>white</td>\n",
       "      <td>bus</td>\n",
       "      <td>6.2</td>\n",
       "      <td>4.1</td>\n",
       "      <td>5.7</td>\n",
       "      <td>7.1</td>\n",
       "      <td>8.3</td>\n",
       "    </tr>\n",
       "    <tr>\n",
       "      <th>1</th>\n",
       "      <td>1012</td>\n",
       "      <td>1</td>\n",
       "      <td>m</td>\n",
       "      <td>33.0</td>\n",
       "      <td>Banks</td>\n",
       "      <td>HR</td>\n",
       "      <td>empjs</td>\n",
       "      <td>no</td>\n",
       "      <td>m</td>\n",
       "      <td>white</td>\n",
       "      <td>bus</td>\n",
       "      <td>6.2</td>\n",
       "      <td>4.1</td>\n",
       "      <td>5.7</td>\n",
       "      <td>7.1</td>\n",
       "      <td>8.3</td>\n",
       "    </tr>\n",
       "    <tr>\n",
       "      <th>2</th>\n",
       "      <td>1013</td>\n",
       "      <td>1</td>\n",
       "      <td>f</td>\n",
       "      <td>35.0</td>\n",
       "      <td>PowerGeneration</td>\n",
       "      <td>HR</td>\n",
       "      <td>rabrecNErab</td>\n",
       "      <td>no</td>\n",
       "      <td>m</td>\n",
       "      <td>white</td>\n",
       "      <td>bus</td>\n",
       "      <td>6.2</td>\n",
       "      <td>6.2</td>\n",
       "      <td>2.6</td>\n",
       "      <td>4.8</td>\n",
       "      <td>8.3</td>\n",
       "    </tr>\n",
       "    <tr>\n",
       "      <th>3</th>\n",
       "      <td>1014</td>\n",
       "      <td>1</td>\n",
       "      <td>f</td>\n",
       "      <td>35.0</td>\n",
       "      <td>PowerGeneration</td>\n",
       "      <td>HR</td>\n",
       "      <td>rabrecNErab</td>\n",
       "      <td>no</td>\n",
       "      <td>m</td>\n",
       "      <td>white</td>\n",
       "      <td>bus</td>\n",
       "      <td>5.4</td>\n",
       "      <td>7.6</td>\n",
       "      <td>4.9</td>\n",
       "      <td>2.5</td>\n",
       "      <td>6.7</td>\n",
       "    </tr>\n",
       "    <tr>\n",
       "      <th>4</th>\n",
       "      <td>1015</td>\n",
       "      <td>1</td>\n",
       "      <td>m</td>\n",
       "      <td>32.0</td>\n",
       "      <td>Retail</td>\n",
       "      <td>Commercial</td>\n",
       "      <td>youjs</td>\n",
       "      <td>yes</td>\n",
       "      <td>f</td>\n",
       "      <td>white</td>\n",
       "      <td>bus</td>\n",
       "      <td>3.0</td>\n",
       "      <td>4.1</td>\n",
       "      <td>8.0</td>\n",
       "      <td>7.1</td>\n",
       "      <td>3.7</td>\n",
       "    </tr>\n",
       "  </tbody>\n",
       "</table>\n",
       "</div>"
      ],
      "text/plain": [
       "   Employee ID  event gender   age         industry  profession      traffic  \\\n",
       "0         1011      1      m  35.0            Banks          HR  rabrecNErab   \n",
       "1         1012      1      m  33.0            Banks          HR        empjs   \n",
       "2         1013      1      f  35.0  PowerGeneration          HR  rabrecNErab   \n",
       "3         1014      1      f  35.0  PowerGeneration          HR  rabrecNErab   \n",
       "4         1015      1      m  32.0           Retail  Commercial        youjs   \n",
       "\n",
       "  coach head_gender greywage  way  extraversion  independ  selfcontrol  \\\n",
       "0    no           f    white  bus           6.2       4.1          5.7   \n",
       "1    no           m    white  bus           6.2       4.1          5.7   \n",
       "2    no           m    white  bus           6.2       6.2          2.6   \n",
       "3    no           m    white  bus           5.4       7.6          4.9   \n",
       "4   yes           f    white  bus           3.0       4.1          8.0   \n",
       "\n",
       "   anxiety  novator  \n",
       "0      7.1      8.3  \n",
       "1      7.1      8.3  \n",
       "2      4.8      8.3  \n",
       "3      2.5      6.7  \n",
       "4      7.1      3.7  "
      ]
     },
     "metadata": {},
     "output_type": "display_data"
    }
   ],
   "source": [
    "display(turnout.head())"
   ]
  },
  {
   "cell_type": "code",
   "execution_count": 205,
   "metadata": {},
   "outputs": [
    {
     "name": "stdout",
     "output_type": "stream",
     "text": [
      "<class 'pandas.core.frame.DataFrame'>\n",
      "RangeIndex: 1129 entries, 0 to 1128\n",
      "Data columns (total 16 columns):\n",
      " #   Column        Non-Null Count  Dtype  \n",
      "---  ------        --------------  -----  \n",
      " 0   Employee ID   1129 non-null   int64  \n",
      " 1   event         1129 non-null   int64  \n",
      " 2   gender        1129 non-null   object \n",
      " 3   age           1129 non-null   float64\n",
      " 4   industry      1129 non-null   object \n",
      " 5   profession    1129 non-null   object \n",
      " 6   traffic       1129 non-null   object \n",
      " 7   coach         1129 non-null   object \n",
      " 8   head_gender   1129 non-null   object \n",
      " 9   greywage      1129 non-null   object \n",
      " 10  way           1129 non-null   object \n",
      " 11  extraversion  1128 non-null   float64\n",
      " 12  independ      1127 non-null   float64\n",
      " 13  selfcontrol   1128 non-null   float64\n",
      " 14  anxiety       1128 non-null   float64\n",
      " 15  novator       1128 non-null   float64\n",
      "dtypes: float64(6), int64(2), object(8)\n",
      "memory usage: 141.3+ KB\n"
     ]
    },
    {
     "data": {
      "text/plain": [
       "None"
      ]
     },
     "metadata": {},
     "output_type": "display_data"
    }
   ],
   "source": [
    "display(turnout.info())"
   ]
  },
  {
   "cell_type": "markdown",
   "metadata": {
    "id": "RyfxYh8Lbwdd"
   },
   "source": [
    "#### b.Identify non-numerical inputs and convert into numerical whatever needed (3 marks) \n",
    "(*Hint: Use replace function if needed)"
   ]
  },
  {
   "cell_type": "code",
   "execution_count": 208,
   "metadata": {
    "id": "dqLmez8Qbzrp"
   },
   "outputs": [
    {
     "name": "stdout",
     "output_type": "stream",
     "text": [
      "<class 'pandas.core.frame.DataFrame'>\n",
      "RangeIndex: 1129 entries, 0 to 1128\n",
      "Data columns (total 51 columns):\n",
      " #   Column                          Non-Null Count  Dtype  \n",
      "---  ------                          --------------  -----  \n",
      " 0   Employee ID                     1129 non-null   int64  \n",
      " 1   event                           1129 non-null   int64  \n",
      " 2   gender                          1129 non-null   int64  \n",
      " 3   age                             1129 non-null   float64\n",
      " 4   head_gender                     1129 non-null   int64  \n",
      " 5   greywage                        1129 non-null   int64  \n",
      " 6   extraversion                    1128 non-null   float64\n",
      " 7   independ                        1127 non-null   float64\n",
      " 8   selfcontrol                     1128 non-null   float64\n",
      " 9   anxiety                         1128 non-null   float64\n",
      " 10  novator                         1128 non-null   float64\n",
      " 11  industry_Agriculture            1129 non-null   bool   \n",
      " 12  industry_Banks                  1129 non-null   bool   \n",
      " 13  industry_Building               1129 non-null   bool   \n",
      " 14  industry_Consult                1129 non-null   bool   \n",
      " 15  industry_IT                     1129 non-null   bool   \n",
      " 16  industry_Mining                 1129 non-null   bool   \n",
      " 17  industry_Pharma                 1129 non-null   bool   \n",
      " 18  industry_PowerGeneration        1129 non-null   bool   \n",
      " 19  industry_RealEstate             1129 non-null   bool   \n",
      " 20  industry_Retail                 1129 non-null   bool   \n",
      " 21  industry_State                  1129 non-null   bool   \n",
      " 22  industry_Telecom                1129 non-null   bool   \n",
      " 23  industry_etc                    1129 non-null   bool   \n",
      " 24  industry_manufacture            1129 non-null   bool   \n",
      " 25  industry_transport              1129 non-null   bool   \n",
      " 26  profession_BusinessDevelopment  1129 non-null   bool   \n",
      " 27  profession_Commercial           1129 non-null   bool   \n",
      " 28  profession_Consult              1129 non-null   bool   \n",
      " 29  profession_Engineer             1129 non-null   bool   \n",
      " 30  profession_Finanñe              1129 non-null   bool   \n",
      " 31  profession_HR                   1129 non-null   bool   \n",
      " 32  profession_IT                   1129 non-null   bool   \n",
      " 33  profession_Law                  1129 non-null   bool   \n",
      " 34  profession_Marketing            1129 non-null   bool   \n",
      " 35  profession_PR                   1129 non-null   bool   \n",
      " 36  profession_Sales                1129 non-null   bool   \n",
      " 37  profession_Teaching             1129 non-null   bool   \n",
      " 38  profession_etc                  1129 non-null   bool   \n",
      " 39  profession_manage               1129 non-null   bool   \n",
      " 40  traffic_advert                  1129 non-null   bool   \n",
      " 41  traffic_empjs                   1129 non-null   bool   \n",
      " 42  traffic_friends                 1129 non-null   bool   \n",
      " 43  traffic_rabrecNErab             1129 non-null   bool   \n",
      " 44  traffic_recNErab                1129 non-null   bool   \n",
      " 45  traffic_referal                 1129 non-null   bool   \n",
      " 46  traffic_youjs                   1129 non-null   bool   \n",
      " 47  coach_no                        1129 non-null   bool   \n",
      " 48  coach_yes                       1129 non-null   bool   \n",
      " 49  way_car                         1129 non-null   bool   \n",
      " 50  way_foot                        1129 non-null   bool   \n",
      "dtypes: bool(40), float64(6), int64(5)\n",
      "memory usage: 141.3 KB\n"
     ]
    }
   ],
   "source": [
    "#Using LabelEncoder automatically finds non numeric columns & tranform then into numeric columns\n",
    "\n",
    "from sklearn.preprocessing import LabelEncoder\n",
    "\n",
    "#Copying dataframe\n",
    "df = turnout.copy()\n",
    "\n",
    "#Identifying Non_numeric columns\n",
    "non_numeric_cols = df.select_dtypes(include=[\"object\"]).columns\n",
    "\n",
    "encoder = {}\n",
    "#Label encode binary columns\n",
    "binary_cols = [\n",
    "    col for col in non_numeric_cols if df[col].nunique(dropna=True) == 2]\n",
    "for col in binary_cols:\n",
    "    le = LabelEncoder()\n",
    "    df[col]=le.fit_transform(df[col])\n",
    "    encoder[col] = le\n",
    "\n",
    "#Step to convert multi columns into numeric\n",
    "multi_cols = [\n",
    "    col for col in non_numeric_cols if df[col].nunique(dropna=True) > 2]\n",
    "df = pd.get_dummies(df, columns=multi_cols, drop_first=True)\n",
    "\n",
    "df.info()"
   ]
  },
  {
   "cell_type": "code",
   "execution_count": 210,
   "metadata": {},
   "outputs": [
    {
     "name": "stdout",
     "output_type": "stream",
     "text": [
      "<class 'pandas.core.frame.DataFrame'>\n",
      "RangeIndex: 1129 entries, 0 to 1128\n",
      "Data columns (total 16 columns):\n",
      " #   Column        Non-Null Count  Dtype  \n",
      "---  ------        --------------  -----  \n",
      " 0   Employee ID   1129 non-null   int64  \n",
      " 1   event         1129 non-null   int64  \n",
      " 2   gender        1129 non-null   object \n",
      " 3   age           1129 non-null   float64\n",
      " 4   industry      1129 non-null   object \n",
      " 5   profession    1129 non-null   object \n",
      " 6   traffic       1129 non-null   object \n",
      " 7   coach         1129 non-null   object \n",
      " 8   head_gender   1129 non-null   object \n",
      " 9   greywage      1129 non-null   object \n",
      " 10  way           1129 non-null   object \n",
      " 11  extraversion  1128 non-null   float64\n",
      " 12  independ      1127 non-null   float64\n",
      " 13  selfcontrol   1128 non-null   float64\n",
      " 14  anxiety       1128 non-null   float64\n",
      " 15  novator       1128 non-null   float64\n",
      "dtypes: float64(6), int64(2), object(8)\n",
      "memory usage: 141.3+ KB\n"
     ]
    },
    {
     "data": {
      "text/html": [
       "<div>\n",
       "<style scoped>\n",
       "    .dataframe tbody tr th:only-of-type {\n",
       "        vertical-align: middle;\n",
       "    }\n",
       "\n",
       "    .dataframe tbody tr th {\n",
       "        vertical-align: top;\n",
       "    }\n",
       "\n",
       "    .dataframe thead th {\n",
       "        text-align: right;\n",
       "    }\n",
       "</style>\n",
       "<table border=\"1\" class=\"dataframe\">\n",
       "  <thead>\n",
       "    <tr style=\"text-align: right;\">\n",
       "      <th></th>\n",
       "      <th>Employee ID</th>\n",
       "      <th>event</th>\n",
       "      <th>gender</th>\n",
       "      <th>age</th>\n",
       "      <th>industry</th>\n",
       "      <th>profession</th>\n",
       "      <th>traffic</th>\n",
       "      <th>coach</th>\n",
       "      <th>head_gender</th>\n",
       "      <th>greywage</th>\n",
       "      <th>way</th>\n",
       "      <th>extraversion</th>\n",
       "      <th>independ</th>\n",
       "      <th>selfcontrol</th>\n",
       "      <th>anxiety</th>\n",
       "      <th>novator</th>\n",
       "    </tr>\n",
       "  </thead>\n",
       "  <tbody>\n",
       "    <tr>\n",
       "      <th>0</th>\n",
       "      <td>1011</td>\n",
       "      <td>1</td>\n",
       "      <td>m</td>\n",
       "      <td>35.0</td>\n",
       "      <td>Banks</td>\n",
       "      <td>HR</td>\n",
       "      <td>rabrecNErab</td>\n",
       "      <td>no</td>\n",
       "      <td>f</td>\n",
       "      <td>white</td>\n",
       "      <td>bus</td>\n",
       "      <td>6.2</td>\n",
       "      <td>4.1</td>\n",
       "      <td>5.7</td>\n",
       "      <td>7.1</td>\n",
       "      <td>8.3</td>\n",
       "    </tr>\n",
       "    <tr>\n",
       "      <th>1</th>\n",
       "      <td>1012</td>\n",
       "      <td>1</td>\n",
       "      <td>m</td>\n",
       "      <td>33.0</td>\n",
       "      <td>Banks</td>\n",
       "      <td>HR</td>\n",
       "      <td>empjs</td>\n",
       "      <td>no</td>\n",
       "      <td>m</td>\n",
       "      <td>white</td>\n",
       "      <td>bus</td>\n",
       "      <td>6.2</td>\n",
       "      <td>4.1</td>\n",
       "      <td>5.7</td>\n",
       "      <td>7.1</td>\n",
       "      <td>8.3</td>\n",
       "    </tr>\n",
       "    <tr>\n",
       "      <th>2</th>\n",
       "      <td>1013</td>\n",
       "      <td>1</td>\n",
       "      <td>f</td>\n",
       "      <td>35.0</td>\n",
       "      <td>PowerGeneration</td>\n",
       "      <td>HR</td>\n",
       "      <td>rabrecNErab</td>\n",
       "      <td>no</td>\n",
       "      <td>m</td>\n",
       "      <td>white</td>\n",
       "      <td>bus</td>\n",
       "      <td>6.2</td>\n",
       "      <td>6.2</td>\n",
       "      <td>2.6</td>\n",
       "      <td>4.8</td>\n",
       "      <td>8.3</td>\n",
       "    </tr>\n",
       "    <tr>\n",
       "      <th>3</th>\n",
       "      <td>1014</td>\n",
       "      <td>1</td>\n",
       "      <td>f</td>\n",
       "      <td>35.0</td>\n",
       "      <td>PowerGeneration</td>\n",
       "      <td>HR</td>\n",
       "      <td>rabrecNErab</td>\n",
       "      <td>no</td>\n",
       "      <td>m</td>\n",
       "      <td>white</td>\n",
       "      <td>bus</td>\n",
       "      <td>5.4</td>\n",
       "      <td>7.6</td>\n",
       "      <td>4.9</td>\n",
       "      <td>2.5</td>\n",
       "      <td>6.7</td>\n",
       "    </tr>\n",
       "    <tr>\n",
       "      <th>4</th>\n",
       "      <td>1015</td>\n",
       "      <td>1</td>\n",
       "      <td>m</td>\n",
       "      <td>32.0</td>\n",
       "      <td>Retail</td>\n",
       "      <td>Commercial</td>\n",
       "      <td>youjs</td>\n",
       "      <td>yes</td>\n",
       "      <td>f</td>\n",
       "      <td>white</td>\n",
       "      <td>bus</td>\n",
       "      <td>3.0</td>\n",
       "      <td>4.1</td>\n",
       "      <td>8.0</td>\n",
       "      <td>7.1</td>\n",
       "      <td>3.7</td>\n",
       "    </tr>\n",
       "  </tbody>\n",
       "</table>\n",
       "</div>"
      ],
      "text/plain": [
       "   Employee ID  event gender   age         industry  profession      traffic  \\\n",
       "0         1011      1      m  35.0            Banks          HR  rabrecNErab   \n",
       "1         1012      1      m  33.0            Banks          HR        empjs   \n",
       "2         1013      1      f  35.0  PowerGeneration          HR  rabrecNErab   \n",
       "3         1014      1      f  35.0  PowerGeneration          HR  rabrecNErab   \n",
       "4         1015      1      m  32.0           Retail  Commercial        youjs   \n",
       "\n",
       "  coach head_gender greywage  way  extraversion  independ  selfcontrol  \\\n",
       "0    no           f    white  bus           6.2       4.1          5.7   \n",
       "1    no           m    white  bus           6.2       4.1          5.7   \n",
       "2    no           m    white  bus           6.2       6.2          2.6   \n",
       "3    no           m    white  bus           5.4       7.6          4.9   \n",
       "4   yes           f    white  bus           3.0       4.1          8.0   \n",
       "\n",
       "   anxiety  novator  \n",
       "0      7.1      8.3  \n",
       "1      7.1      8.3  \n",
       "2      4.8      8.3  \n",
       "3      2.5      6.7  \n",
       "4      7.1      3.7  "
      ]
     },
     "execution_count": 210,
     "metadata": {},
     "output_type": "execute_result"
    }
   ],
   "source": [
    "turnout.info()\n",
    "turnout.head()"
   ]
  },
  {
   "cell_type": "code",
   "execution_count": 212,
   "metadata": {},
   "outputs": [
    {
     "data": {
      "text/plain": [
       "['gender', 'head_gender', 'greywage']"
      ]
     },
     "metadata": {},
     "output_type": "display_data"
    }
   ],
   "source": [
    "#Finding Non numerical binary columns\n",
    "non_numeric_binary_cols = [col for col in turnout.select_dtypes(include=[\"object\"]).columns\n",
    "               if turnout[col].nunique(dropna=True) == 2]\n",
    "display(non_numeric_binary_cols)"
   ]
  },
  {
   "cell_type": "code",
   "execution_count": 214,
   "metadata": {},
   "outputs": [
    {
     "data": {
      "text/plain": [
       "['industry', 'profession', 'traffic', 'coach', 'way']"
      ]
     },
     "metadata": {},
     "output_type": "display_data"
    }
   ],
   "source": [
    "#Finding Non numerical multi columns\n",
    "non_numeric_multi_cols = [col for col in turnout.select_dtypes(include=[\"object\"]).columns\n",
    "               if turnout[col].nunique(dropna=True) != 2]\n",
    "\n",
    "display(non_numeric_multi_cols)"
   ]
  },
  {
   "cell_type": "code",
   "execution_count": 216,
   "metadata": {},
   "outputs": [
    {
     "name": "stdout",
     "output_type": "stream",
     "text": [
      "<class 'pandas.core.frame.DataFrame'>\n",
      "RangeIndex: 1129 entries, 0 to 1128\n",
      "Data columns (total 51 columns):\n",
      " #   Column                          Non-Null Count  Dtype  \n",
      "---  ------                          --------------  -----  \n",
      " 0   Employee ID                     1129 non-null   int64  \n",
      " 1   event                           1129 non-null   int64  \n",
      " 2   gender                          1129 non-null   int64  \n",
      " 3   age                             1129 non-null   float64\n",
      " 4   head_gender                     1129 non-null   int64  \n",
      " 5   greywage                        1129 non-null   int64  \n",
      " 6   extraversion                    1128 non-null   float64\n",
      " 7   independ                        1127 non-null   float64\n",
      " 8   selfcontrol                     1128 non-null   float64\n",
      " 9   anxiety                         1128 non-null   float64\n",
      " 10  novator                         1128 non-null   float64\n",
      " 11  industry_Agriculture            1129 non-null   bool   \n",
      " 12  industry_Banks                  1129 non-null   bool   \n",
      " 13  industry_Building               1129 non-null   bool   \n",
      " 14  industry_Consult                1129 non-null   bool   \n",
      " 15  industry_IT                     1129 non-null   bool   \n",
      " 16  industry_Mining                 1129 non-null   bool   \n",
      " 17  industry_Pharma                 1129 non-null   bool   \n",
      " 18  industry_PowerGeneration        1129 non-null   bool   \n",
      " 19  industry_RealEstate             1129 non-null   bool   \n",
      " 20  industry_Retail                 1129 non-null   bool   \n",
      " 21  industry_State                  1129 non-null   bool   \n",
      " 22  industry_Telecom                1129 non-null   bool   \n",
      " 23  industry_etc                    1129 non-null   bool   \n",
      " 24  industry_manufacture            1129 non-null   bool   \n",
      " 25  industry_transport              1129 non-null   bool   \n",
      " 26  profession_BusinessDevelopment  1129 non-null   bool   \n",
      " 27  profession_Commercial           1129 non-null   bool   \n",
      " 28  profession_Consult              1129 non-null   bool   \n",
      " 29  profession_Engineer             1129 non-null   bool   \n",
      " 30  profession_Finanñe              1129 non-null   bool   \n",
      " 31  profession_HR                   1129 non-null   bool   \n",
      " 32  profession_IT                   1129 non-null   bool   \n",
      " 33  profession_Law                  1129 non-null   bool   \n",
      " 34  profession_Marketing            1129 non-null   bool   \n",
      " 35  profession_PR                   1129 non-null   bool   \n",
      " 36  profession_Sales                1129 non-null   bool   \n",
      " 37  profession_Teaching             1129 non-null   bool   \n",
      " 38  profession_etc                  1129 non-null   bool   \n",
      " 39  profession_manage               1129 non-null   bool   \n",
      " 40  traffic_advert                  1129 non-null   bool   \n",
      " 41  traffic_empjs                   1129 non-null   bool   \n",
      " 42  traffic_friends                 1129 non-null   bool   \n",
      " 43  traffic_rabrecNErab             1129 non-null   bool   \n",
      " 44  traffic_recNErab                1129 non-null   bool   \n",
      " 45  traffic_referal                 1129 non-null   bool   \n",
      " 46  traffic_youjs                   1129 non-null   bool   \n",
      " 47  coach_no                        1129 non-null   bool   \n",
      " 48  coach_yes                       1129 non-null   bool   \n",
      " 49  way_car                         1129 non-null   bool   \n",
      " 50  way_foot                        1129 non-null   bool   \n",
      "dtypes: bool(40), float64(6), int64(5)\n",
      "memory usage: 141.3 KB\n"
     ]
    },
    {
     "name": "stderr",
     "output_type": "stream",
     "text": [
      "/var/folders/9_/jzbpn_d578l55nyn4xxfy3f80000gn/T/ipykernel_1229/1449298817.py:4: FutureWarning: Downcasting behavior in `replace` is deprecated and will be removed in a future version. To retain the old behavior, explicitly call `result.infer_objects(copy=False)`. To opt-in to the future behavior, set `pd.set_option('future.no_silent_downcasting', True)`\n",
      "  turnout[\"gender\"] = turnout[\"gender\"].replace({\"m\":1, \"f\":0})\n",
      "/var/folders/9_/jzbpn_d578l55nyn4xxfy3f80000gn/T/ipykernel_1229/1449298817.py:5: FutureWarning: Downcasting behavior in `replace` is deprecated and will be removed in a future version. To retain the old behavior, explicitly call `result.infer_objects(copy=False)`. To opt-in to the future behavior, set `pd.set_option('future.no_silent_downcasting', True)`\n",
      "  turnout[\"head_gender\"] = turnout[\"head_gender\"].replace({\"m\":1, \"f\":0})\n",
      "/var/folders/9_/jzbpn_d578l55nyn4xxfy3f80000gn/T/ipykernel_1229/1449298817.py:6: FutureWarning: Downcasting behavior in `replace` is deprecated and will be removed in a future version. To retain the old behavior, explicitly call `result.infer_objects(copy=False)`. To opt-in to the future behavior, set `pd.set_option('future.no_silent_downcasting', True)`\n",
      "  turnout[\"greywage\"] = turnout[\"greywage\"].replace({\"white\":1, \"grey\":0})\n"
     ]
    },
    {
     "data": {
      "text/plain": [
       "None"
      ]
     },
     "metadata": {},
     "output_type": "display_data"
    }
   ],
   "source": [
    "#Using replace function as mentioned in question\n",
    "\n",
    "#Replace binary categories columns\n",
    "turnout[\"gender\"] = turnout[\"gender\"].replace({\"m\":1, \"f\":0})\n",
    "turnout[\"head_gender\"] = turnout[\"head_gender\"].replace({\"m\":1, \"f\":0})\n",
    "turnout[\"greywage\"] = turnout[\"greywage\"].replace({\"white\":1, \"grey\":0})\n",
    "\n",
    "#Replace multi categories columns\n",
    "multi_column = [\"industry\", \"profession\", \"traffic\", \"coach\", \"way\"]\n",
    "existing_cols = [col for col in multi_column if col in turnout.columns]\n",
    "turnout = pd.get_dummies(turnout, columns=existing_cols, drop_first=True)\n",
    "\n",
    "display(turnout.info())"
   ]
  },
  {
   "cell_type": "markdown",
   "metadata": {
    "id": "oQbYqF4Bb1Gs"
   },
   "source": [
    "#### c. Check whether the dataset having null values or not. If yes, do remove with suitable average value (2 marks) \n",
    "(*Think out of box)"
   ]
  },
  {
   "cell_type": "code",
   "execution_count": 219,
   "metadata": {
    "id": "oB2gD_tXb7TD"
   },
   "outputs": [
    {
     "data": {
      "text/plain": [
       "Employee ID     0\n",
       "event           0\n",
       "gender          0\n",
       "age             0\n",
       "head_gender     0\n",
       "greywage        0\n",
       "extraversion    1\n",
       "independ        2\n",
       "selfcontrol     1\n",
       "anxiety         1\n",
       "novator         1\n",
       "dtype: int64"
      ]
     },
     "execution_count": 219,
     "metadata": {},
     "output_type": "execute_result"
    }
   ],
   "source": [
    "#Check for null values\n",
    "turnout.select_dtypes(include=[\"float\", \"int64\"]).isnull().sum()"
   ]
  },
  {
   "cell_type": "code",
   "execution_count": 221,
   "metadata": {},
   "outputs": [
    {
     "data": {
      "text/plain": [
       "Employee ID                       0\n",
       "event                             0\n",
       "gender                            0\n",
       "age                               0\n",
       "head_gender                       0\n",
       "greywage                          0\n",
       "extraversion                      0\n",
       "independ                          0\n",
       "selfcontrol                       0\n",
       "anxiety                           0\n",
       "novator                           0\n",
       "industry_Agriculture              0\n",
       "industry_Banks                    0\n",
       "industry_Building                 0\n",
       "industry_Consult                  0\n",
       "industry_IT                       0\n",
       "industry_Mining                   0\n",
       "industry_Pharma                   0\n",
       "industry_PowerGeneration          0\n",
       "industry_RealEstate               0\n",
       "industry_Retail                   0\n",
       "industry_State                    0\n",
       "industry_Telecom                  0\n",
       "industry_etc                      0\n",
       "industry_manufacture              0\n",
       "industry_transport                0\n",
       "profession_BusinessDevelopment    0\n",
       "profession_Commercial             0\n",
       "profession_Consult                0\n",
       "profession_Engineer               0\n",
       "profession_Finanñe                0\n",
       "profession_HR                     0\n",
       "profession_IT                     0\n",
       "profession_Law                    0\n",
       "profession_Marketing              0\n",
       "profession_PR                     0\n",
       "profession_Sales                  0\n",
       "profession_Teaching               0\n",
       "profession_etc                    0\n",
       "profession_manage                 0\n",
       "traffic_advert                    0\n",
       "traffic_empjs                     0\n",
       "traffic_friends                   0\n",
       "traffic_rabrecNErab               0\n",
       "traffic_recNErab                  0\n",
       "traffic_referal                   0\n",
       "traffic_youjs                     0\n",
       "coach_no                          0\n",
       "coach_yes                         0\n",
       "way_car                           0\n",
       "way_foot                          0\n",
       "dtype: int64"
      ]
     },
     "execution_count": 221,
     "metadata": {},
     "output_type": "execute_result"
    }
   ],
   "source": [
    "#Fill null values for float dtypes(only float type has null values) with suitable average\n",
    "for col in turnout.select_dtypes(include=\"float\").columns:\n",
    "    if turnout[col].isnull().sum() > 0:\n",
    "        turnout[col] = turnout[col].fillna(turnout[col].mean())\n",
    "\n",
    "#confirming no null values in dataset\n",
    "turnout.isnull().sum()"
   ]
  },
  {
   "cell_type": "markdown",
   "metadata": {
    "id": "cMWhXtQgb-hG"
   },
   "source": [
    "#### d.Find mean, median and mode for atleast one possible column for each (3 marks)"
   ]
  },
  {
   "cell_type": "code",
   "execution_count": 224,
   "metadata": {
    "id": "9QPegyyocAne"
   },
   "outputs": [
    {
     "name": "stdout",
     "output_type": "stream",
     "text": [
      "Mean Age: 31.05\n"
     ]
    }
   ],
   "source": [
    "#age column for calculating mean()\n",
    "mean_age = turnout[\"age\"].mean()\n",
    "print(\"Mean Age:\", round(mean_age, 2))"
   ]
  },
  {
   "cell_type": "code",
   "execution_count": 226,
   "metadata": {},
   "outputs": [
    {
     "name": "stdout",
     "output_type": "stream",
     "text": [
      "Median Anxiety: 5.6\n"
     ]
    }
   ],
   "source": [
    "#anxiety column for calculating median()\n",
    "anxiety_median = turnout[\"anxiety\"].median()\n",
    "print(\"Median Anxiety:\", anxiety_median)"
   ]
  },
  {
   "cell_type": "code",
   "execution_count": 228,
   "metadata": {},
   "outputs": [
    {
     "name": "stdout",
     "output_type": "stream",
     "text": [
      "Mode gender: 0\n"
     ]
    }
   ],
   "source": [
    "#gender column for calculating mode()\n",
    "mode_gender = turnout[\"gender\"].mode()[0]\n",
    "print(\"Mode gender:\", mode_gender)"
   ]
  },
  {
   "cell_type": "code",
   "execution_count": 230,
   "metadata": {},
   "outputs": [
    {
     "name": "stdout",
     "output_type": "stream",
     "text": [
      "Mode df gender: f\n"
     ]
    }
   ],
   "source": [
    "#for turnout numerical value mapping done by replace() which is a one way method.\n",
    "#But for df numerical value mapping done by LabelEncoder() which internally keeps record of internal value.\n",
    "\n",
    "mode_df_gender = df[\"gender\"].mode()[0]\n",
    "decoded_gender = encoder[\"gender\"].inverse_transform([mode_df_gender])[0]\n",
    "print(\"Mode df gender:\", decoded_gender)"
   ]
  },
  {
   "cell_type": "markdown",
   "metadata": {
    "id": "GdgFRvcvcBQA"
   },
   "source": [
    "####e.Check the outliers and remove it from the dataset. (3 marks)"
   ]
  },
  {
   "cell_type": "code",
   "execution_count": 233,
   "metadata": {
    "id": "50BJ6rrecKhf"
   },
   "outputs": [
    {
     "data": {
      "text/plain": [
       "Index(['Employee ID', 'event', 'gender', 'age', 'head_gender', 'greywage',\n",
       "       'extraversion', 'independ', 'selfcontrol', 'anxiety', 'novator'],\n",
       "      dtype='object')"
      ]
     },
     "metadata": {},
     "output_type": "display_data"
    }
   ],
   "source": [
    "numeric_cols = turnout.select_dtypes(include=[\"int64\", \"float64\"]).columns\n",
    "display(numeric_cols)"
   ]
  },
  {
   "cell_type": "code",
   "execution_count": 235,
   "metadata": {},
   "outputs": [],
   "source": [
    "#Apply IQR filtering\n",
    "for col in numeric_cols:\n",
    "    Q1 = turnout[col].quantile(0.25)\n",
    "    Q3 = turnout[col].quantile(0.75)\n",
    "    IQR = Q3-Q1\n",
    "    lower_bound = Q1 - 1.5*IQR\n",
    "    upper_bound = Q3 + 1.5*IQR\n",
    "    turnout = turnout[(turnout[col] >= lower_bound) & (turnout[col] <= upper_bound)]"
   ]
  },
  {
   "cell_type": "code",
   "execution_count": 237,
   "metadata": {},
   "outputs": [
    {
     "data": {
      "text/html": [
       "<div>\n",
       "<style scoped>\n",
       "    .dataframe tbody tr th:only-of-type {\n",
       "        vertical-align: middle;\n",
       "    }\n",
       "\n",
       "    .dataframe tbody tr th {\n",
       "        vertical-align: top;\n",
       "    }\n",
       "\n",
       "    .dataframe thead th {\n",
       "        text-align: right;\n",
       "    }\n",
       "</style>\n",
       "<table border=\"1\" class=\"dataframe\">\n",
       "  <thead>\n",
       "    <tr style=\"text-align: right;\">\n",
       "      <th></th>\n",
       "      <th>Employee ID</th>\n",
       "      <th>event</th>\n",
       "      <th>gender</th>\n",
       "      <th>age</th>\n",
       "      <th>head_gender</th>\n",
       "      <th>greywage</th>\n",
       "      <th>extraversion</th>\n",
       "      <th>independ</th>\n",
       "      <th>selfcontrol</th>\n",
       "      <th>anxiety</th>\n",
       "      <th>novator</th>\n",
       "    </tr>\n",
       "  </thead>\n",
       "  <tbody>\n",
       "    <tr>\n",
       "      <th>count</th>\n",
       "      <td>741.000000</td>\n",
       "      <td>741.000000</td>\n",
       "      <td>741.0</td>\n",
       "      <td>741.000000</td>\n",
       "      <td>741.000000</td>\n",
       "      <td>741.0</td>\n",
       "      <td>741.000000</td>\n",
       "      <td>741.000000</td>\n",
       "      <td>741.000000</td>\n",
       "      <td>741.000000</td>\n",
       "      <td>741.000000</td>\n",
       "    </tr>\n",
       "    <tr>\n",
       "      <th>mean</th>\n",
       "      <td>1558.933873</td>\n",
       "      <td>0.500675</td>\n",
       "      <td>0.0</td>\n",
       "      <td>30.642108</td>\n",
       "      <td>0.450742</td>\n",
       "      <td>1.0</td>\n",
       "      <td>5.729006</td>\n",
       "      <td>5.683266</td>\n",
       "      <td>5.544534</td>\n",
       "      <td>5.287989</td>\n",
       "      <td>5.872335</td>\n",
       "    </tr>\n",
       "    <tr>\n",
       "      <th>std</th>\n",
       "      <td>322.683892</td>\n",
       "      <td>0.500337</td>\n",
       "      <td>0.0</td>\n",
       "      <td>6.586904</td>\n",
       "      <td>0.497904</td>\n",
       "      <td>0.0</td>\n",
       "      <td>1.787943</td>\n",
       "      <td>1.654810</td>\n",
       "      <td>1.941513</td>\n",
       "      <td>1.590582</td>\n",
       "      <td>1.936667</td>\n",
       "    </tr>\n",
       "    <tr>\n",
       "      <th>min</th>\n",
       "      <td>1013.000000</td>\n",
       "      <td>0.000000</td>\n",
       "      <td>0.0</td>\n",
       "      <td>18.000000</td>\n",
       "      <td>0.000000</td>\n",
       "      <td>1.0</td>\n",
       "      <td>1.000000</td>\n",
       "      <td>1.900000</td>\n",
       "      <td>1.000000</td>\n",
       "      <td>1.700000</td>\n",
       "      <td>1.000000</td>\n",
       "    </tr>\n",
       "    <tr>\n",
       "      <th>25%</th>\n",
       "      <td>1279.000000</td>\n",
       "      <td>0.000000</td>\n",
       "      <td>0.0</td>\n",
       "      <td>25.000000</td>\n",
       "      <td>0.000000</td>\n",
       "      <td>1.0</td>\n",
       "      <td>4.600000</td>\n",
       "      <td>4.800000</td>\n",
       "      <td>4.100000</td>\n",
       "      <td>4.000000</td>\n",
       "      <td>4.400000</td>\n",
       "    </tr>\n",
       "    <tr>\n",
       "      <th>50%</th>\n",
       "      <td>1557.000000</td>\n",
       "      <td>1.000000</td>\n",
       "      <td>0.0</td>\n",
       "      <td>30.000000</td>\n",
       "      <td>0.000000</td>\n",
       "      <td>1.0</td>\n",
       "      <td>5.400000</td>\n",
       "      <td>5.500000</td>\n",
       "      <td>5.700000</td>\n",
       "      <td>5.600000</td>\n",
       "      <td>6.000000</td>\n",
       "    </tr>\n",
       "    <tr>\n",
       "      <th>75%</th>\n",
       "      <td>1838.000000</td>\n",
       "      <td>1.000000</td>\n",
       "      <td>0.0</td>\n",
       "      <td>35.000000</td>\n",
       "      <td>1.000000</td>\n",
       "      <td>1.0</td>\n",
       "      <td>7.000000</td>\n",
       "      <td>6.900000</td>\n",
       "      <td>7.200000</td>\n",
       "      <td>6.300000</td>\n",
       "      <td>7.500000</td>\n",
       "    </tr>\n",
       "    <tr>\n",
       "      <th>max</th>\n",
       "      <td>2137.000000</td>\n",
       "      <td>1.000000</td>\n",
       "      <td>0.0</td>\n",
       "      <td>50.000000</td>\n",
       "      <td>1.000000</td>\n",
       "      <td>1.0</td>\n",
       "      <td>10.000000</td>\n",
       "      <td>10.000000</td>\n",
       "      <td>10.000000</td>\n",
       "      <td>9.400000</td>\n",
       "      <td>10.000000</td>\n",
       "    </tr>\n",
       "  </tbody>\n",
       "</table>\n",
       "</div>"
      ],
      "text/plain": [
       "       Employee ID       event  gender         age  head_gender  greywage  \\\n",
       "count   741.000000  741.000000   741.0  741.000000   741.000000     741.0   \n",
       "mean   1558.933873    0.500675     0.0   30.642108     0.450742       1.0   \n",
       "std     322.683892    0.500337     0.0    6.586904     0.497904       0.0   \n",
       "min    1013.000000    0.000000     0.0   18.000000     0.000000       1.0   \n",
       "25%    1279.000000    0.000000     0.0   25.000000     0.000000       1.0   \n",
       "50%    1557.000000    1.000000     0.0   30.000000     0.000000       1.0   \n",
       "75%    1838.000000    1.000000     0.0   35.000000     1.000000       1.0   \n",
       "max    2137.000000    1.000000     0.0   50.000000     1.000000       1.0   \n",
       "\n",
       "       extraversion    independ  selfcontrol     anxiety     novator  \n",
       "count    741.000000  741.000000   741.000000  741.000000  741.000000  \n",
       "mean       5.729006    5.683266     5.544534    5.287989    5.872335  \n",
       "std        1.787943    1.654810     1.941513    1.590582    1.936667  \n",
       "min        1.000000    1.900000     1.000000    1.700000    1.000000  \n",
       "25%        4.600000    4.800000     4.100000    4.000000    4.400000  \n",
       "50%        5.400000    5.500000     5.700000    5.600000    6.000000  \n",
       "75%        7.000000    6.900000     7.200000    6.300000    7.500000  \n",
       "max       10.000000   10.000000    10.000000    9.400000   10.000000  "
      ]
     },
     "execution_count": 237,
     "metadata": {},
     "output_type": "execute_result"
    }
   ],
   "source": [
    "turnout.describe()"
   ]
  },
  {
   "cell_type": "code",
   "execution_count": 239,
   "metadata": {},
   "outputs": [
    {
     "data": {
      "image/png": "[encoded data removed]",
      "text/plain": [
       "<Figure size 640x480 with 1 Axes>"
      ]
     },
     "metadata": {},
     "output_type": "display_data"
    },
    {
     "data": {
      "image/png": "[encoded data removed]",
      "text/plain": [
       "<Figure size 640x480 with 1 Axes>"
      ]
     },
     "metadata": {},
     "output_type": "display_data"
    }
   ],
   "source": [
    "#Visual check\n",
    "import matplotlib.pyplot as plt\n",
    "\n",
    "sns.boxplot(data=df[[\"age\", \"anxiety\", \"selfcontrol\"]])\n",
    "plt.title(\"Before Outlier Removal\")\n",
    "plt.show()\n",
    "\n",
    "sns.boxplot(data=turnout[[\"age\", \"anxiety\", \"selfcontrol\"]])\n",
    "plt.title(\"After Outlier Removal\")\n",
    "plt.show()"
   ]
  },
  {
   "cell_type": "markdown",
   "metadata": {
    "id": "CuPgRcwXMAKH"
   },
   "source": [
    "####f.Find the appropriate columns and do encoding based on your understanding. (4 marks)"
   ]
  },
  {
   "cell_type": "code",
   "execution_count": 242,
   "metadata": {},
   "outputs": [],
   "source": [
    "encode_df = pd.read_csv(\"turnout.csv\", encoding='ISO-8859-1')"
   ]
  },
  {
   "cell_type": "code",
   "execution_count": 251,
   "metadata": {},
   "outputs": [
    {
     "data": {
      "text/plain": [
       "Index(['Employee ID', 'event', 'gender', 'age', 'industry', 'profession',\n",
       "       'traffic', 'coach', 'head_gender', 'greywage', 'way', 'extraversion',\n",
       "       'independ', 'selfcontrol', 'anxiety', 'novator'],\n",
       "      dtype='object')"
      ]
     },
     "execution_count": 251,
     "metadata": {},
     "output_type": "execute_result"
    }
   ],
   "source": [
    "encode_df.columns"
   ]
  },
  {
   "cell_type": "code",
   "execution_count": 253,
   "metadata": {},
   "outputs": [
    {
     "name": "stdout",
     "output_type": "stream",
     "text": [
      "   profession  profession_freq\n",
      "0          HR              757\n",
      "1          HR              757\n",
      "2          HR              757\n",
      "3          HR              757\n",
      "4  Commercial               23\n"
     ]
    }
   ],
   "source": [
    "#Frequency encoding on profession\n",
    "freq_map = encode_df[\"profession\"].value_counts().to_dict()\n",
    "encode_df[\"profession_freq\"] = encode_df[\"profession\"].map(freq_map)\n",
    "\n",
    "print(encode_df[[\"profession\", \"profession_freq\"]].head())"
   ]
  },
  {
   "cell_type": "code",
   "execution_count": 255,
   "metadata": {},
   "outputs": [
    {
     "name": "stdout",
     "output_type": "stream",
     "text": [
      "             industry  industry_target\n",
      "0               Banks         0.657895\n",
      "1               Banks         0.657895\n",
      "2     PowerGeneration         0.394737\n",
      "3     PowerGeneration         0.394737\n",
      "4              Retail         0.470588\n",
      "...               ...              ...\n",
      "1124            Banks         0.657895\n",
      "1125            Banks         0.657895\n",
      "1126          Telecom         0.388889\n",
      "1127          Consult         0.608108\n",
      "1128           Retail         0.470588\n",
      "\n",
      "[1129 rows x 2 columns]\n"
     ]
    }
   ],
   "source": [
    "#Target encoding on industry using event as target\n",
    "\n",
    "industry_target_map = encode_df.groupby(\"industry\")[\"event\"].mean().to_dict()\n",
    "encode_df[\"industry_target\"] = encode_df[\"industry\"].map(industry_target_map)\n",
    "\n",
    "print(encode_df[[\"industry\", \"industry_target\"]])\n"
   ]
  },
  {
   "cell_type": "markdown",
   "metadata": {
    "id": "yFQhwjrgMIyk"
   },
   "source": [
    "####g.Plot the heatmap for the dataset with the applicable columns (4 marks)"
   ]
  },
  {
   "cell_type": "code",
   "execution_count": 249,
   "metadata": {
    "id": "8DiHuhHwMSan"
   },
   "outputs": [
    {
     "data": {
      "image/png": "[encoded data removed]",
      "text/plain": [
       "<Figure size 1600x1000 with 2 Axes>"
      ]
     },
     "metadata": {},
     "output_type": "display_data"
    }
   ],
   "source": [
    "# Drop ID and one-hot columns\n",
    "exclude_cols = [col for col in df.columns if 'industry_' in col or \n",
    "                'profession_' in col or 'traffic_' in col or \n",
    "                'coach_' in col or 'way_' in col or \n",
    "                col == 'Employee ID']\n",
    "\n",
    "# Keep only relevant numeric columns\n",
    "filtered_df = df.drop(columns=exclude_cols)\n",
    "\n",
    "# Compute correlation matrix\n",
    "corr_matrix = filtered_df.corr()\n",
    "\n",
    "plt.figure(figsize=(16, 10))\n",
    "\n",
    "#Plot heatmap\n",
    "sns.heatmap(corr_matrix, annot=True, fmt=\".2f\", cmap=\"coolwarm\", square=True, linewidths=0.5)\n",
    "plt.title(\"Correlation Heatmap of Numeric Features\", fontsize=16)\n",
    "plt.show()\n"
   ]
  },
  {
   "cell_type": "code",
   "execution_count": null,
   "metadata": {},
   "outputs": [],
   "source": []
  }
 ],
 "metadata": {
  "celltoolbar": "Raw Cell Format",
  "colab": {
   "provenance": []
  },
  "kernelspec": {
   "display_name": "Python [conda env:base] *",
   "language": "python",
   "name": "conda-base-py"
  },
  "language_info": {
   "codemirror_mode": {
    "name": "ipython",
    "version": 3
   },
   "file_extension": ".py",
   "mimetype": "text/x-python",
   "name": "python",
   "nbconvert_exporter": "python",
   "pygments_lexer": "ipython3",
   "version": "3.12.7"
  }
 },
 "nbformat": 4,
 "nbformat_minor": 4
}
