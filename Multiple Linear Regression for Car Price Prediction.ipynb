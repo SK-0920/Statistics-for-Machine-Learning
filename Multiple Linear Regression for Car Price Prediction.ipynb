{
 "cells": [
  {
   "cell_type": "markdown",
   "metadata": {
    "id": "DIZFQY7_nT0u"
   },
   "source": [
    "<table align=\"center\" width=80%>\n",
    "    <tr>\n",
    "        <td width=\"10%\">\n",
    "        </td>\n",
    "        <td>\n",
    "            <div align=\"center\">\n",
    "                <font color=\"#21618C\" size=8px>\n",
    "                    <b> MLSR <br>(Assignment 2: Predicting Used Car Selling Price using Multiple Linear Regression) \n",
    "                    </b>\n",
    "                </font>\n",
    "            </div>\n",
    "        </td>\n",
    "    </tr>\n",
    "</table>"
   ]
  },
  {
   "cell_type": "markdown",
   "metadata": {
    "id": "CzVZirmxnT0x"
   },
   "source": [
    "### Import the required libraries"
   ]
  },
  {
   "cell_type": "code",
   "execution_count": 34,
   "metadata": {
    "id": "kT14u0OsnT0x"
   },
   "outputs": [],
   "source": [
    "# import 'Pandas' \n",
    "import pandas as pd \n",
    "\n",
    "# import 'Numpy' \n",
    "import numpy as np\n",
    "\n",
    "# 'Statsmodels' is used to build and analyze various statistical models\n",
    "import statsmodels\n",
    "import statsmodels.api as sm\n",
    "from statsmodels.stats.outliers_influence import variance_inflation_factor\n",
    "from statsmodels.formula.api import ols\n",
    "from statsmodels.tools.eval_measures import rmse\n",
    "\n",
    "# import various metrics from 'Scikit-learn' (sklearn)\n",
    "from sklearn.model_selection import train_test_split\n",
    "\n",
    "# to set the digits after decimal place \n",
    "pd.options.display.float_format = '{:.5f}'.format\n",
    "\n",
    "# suppress warnings \n",
    "from warnings import filterwarnings\n",
    "filterwarnings('ignore')"
   ]
  },
  {
   "cell_type": "markdown",
   "metadata": {},
   "source": [
    "Questions/Tasks in order\n",
    "\n",
    "1) Load the dataset\n",
    "    a. Read the CSV file.\n",
    "    b. Set the first column as index.\n",
    "\n",
    "2) Build a Full Model\n",
    "    a. Create a regression model including all features.\n",
    "    b. Interpret the beta coefficients (how each variable impacts selling price).\n",
    "\n",
    "3) Impact of Fuel Type\n",
    "    a. Analyze how different Fuel_Type (Petrol, Diesel, CNG) affects the selling price.\n",
    "\n",
    "4) Model Significance\n",
    "    a. Check whether the model significantly explains variation in selling price.\n",
    "    b. Use statistical tests/metrics like R², adjusted R², F-test, p-values.\n",
    "\n",
    "5) Regression with Transmission\n",
    "    a. Regress Selling_Price over Transmission (Manual/Automatic).\n",
    "    b. Analyze its effect.\n",
    "\n",
    "6) Subset Model\n",
    "    a. Build a model with a subset of features.\n",
    "    b. Compare with the full model.\n",
    "\n",
    "7) Model Selection Techniques\n",
    "    a. Apply Forward Selection, Backward Elimination, Stepwise Selection to choose best predictors.\n",
    "\n",
    "8) Check for Multicollinearity\n",
    "    a. Use VIF (Variance Inflation Factor) to detect multicollinearity among predictors.\n",
    "\n",
    "9) Final Model\n",
    "    a.Build the final model after handling multicollinearity.\n",
    "    b.Interpret results and performance metrics"
   ]
  },
  {
   "cell_type": "code",
   "execution_count": 37,
   "metadata": {
    "id": "5-Knzw_DLrGg"
   },
   "outputs": [],
   "source": [
    "#Reading Dataset\n",
    "df = pd.read_csv(\"car+data.csv\", index_col=0)"
   ]
  },
  {
   "cell_type": "code",
   "execution_count": 39,
   "metadata": {},
   "outputs": [
    {
     "data": {
      "text/html": [
       "<div>\n",
       "<style scoped>\n",
       "    .dataframe tbody tr th:only-of-type {\n",
       "        vertical-align: middle;\n",
       "    }\n",
       "\n",
       "    .dataframe tbody tr th {\n",
       "        vertical-align: top;\n",
       "    }\n",
       "\n",
       "    .dataframe thead th {\n",
       "        text-align: right;\n",
       "    }\n",
       "</style>\n",
       "<table border=\"1\" class=\"dataframe\">\n",
       "  <thead>\n",
       "    <tr style=\"text-align: right;\">\n",
       "      <th></th>\n",
       "      <th>Year</th>\n",
       "      <th>Selling_Price</th>\n",
       "      <th>Present_Price</th>\n",
       "      <th>Kms_Driven</th>\n",
       "      <th>Fuel_Type</th>\n",
       "      <th>Seller_Type</th>\n",
       "      <th>Transmission</th>\n",
       "      <th>Owner</th>\n",
       "    </tr>\n",
       "    <tr>\n",
       "      <th>Car_Name</th>\n",
       "      <th></th>\n",
       "      <th></th>\n",
       "      <th></th>\n",
       "      <th></th>\n",
       "      <th></th>\n",
       "      <th></th>\n",
       "      <th></th>\n",
       "      <th></th>\n",
       "    </tr>\n",
       "  </thead>\n",
       "  <tbody>\n",
       "    <tr>\n",
       "      <th>ritz</th>\n",
       "      <td>2014</td>\n",
       "      <td>3.35000</td>\n",
       "      <td>5.59000</td>\n",
       "      <td>27000</td>\n",
       "      <td>Petrol</td>\n",
       "      <td>Dealer</td>\n",
       "      <td>Manual</td>\n",
       "      <td>0</td>\n",
       "    </tr>\n",
       "    <tr>\n",
       "      <th>sx4</th>\n",
       "      <td>2013</td>\n",
       "      <td>4.75000</td>\n",
       "      <td>9.54000</td>\n",
       "      <td>43000</td>\n",
       "      <td>Diesel</td>\n",
       "      <td>Dealer</td>\n",
       "      <td>Manual</td>\n",
       "      <td>0</td>\n",
       "    </tr>\n",
       "    <tr>\n",
       "      <th>ciaz</th>\n",
       "      <td>2017</td>\n",
       "      <td>7.25000</td>\n",
       "      <td>9.85000</td>\n",
       "      <td>6900</td>\n",
       "      <td>Petrol</td>\n",
       "      <td>Dealer</td>\n",
       "      <td>Manual</td>\n",
       "      <td>0</td>\n",
       "    </tr>\n",
       "    <tr>\n",
       "      <th>wagon r</th>\n",
       "      <td>2011</td>\n",
       "      <td>2.85000</td>\n",
       "      <td>4.15000</td>\n",
       "      <td>5200</td>\n",
       "      <td>Petrol</td>\n",
       "      <td>Dealer</td>\n",
       "      <td>Manual</td>\n",
       "      <td>0</td>\n",
       "    </tr>\n",
       "    <tr>\n",
       "      <th>swift</th>\n",
       "      <td>2014</td>\n",
       "      <td>4.60000</td>\n",
       "      <td>6.87000</td>\n",
       "      <td>42450</td>\n",
       "      <td>Diesel</td>\n",
       "      <td>Dealer</td>\n",
       "      <td>Manual</td>\n",
       "      <td>0</td>\n",
       "    </tr>\n",
       "  </tbody>\n",
       "</table>\n",
       "</div>"
      ],
      "text/plain": [
       "          Year  Selling_Price  Present_Price  Kms_Driven Fuel_Type  \\\n",
       "Car_Name                                                             \n",
       "ritz      2014        3.35000        5.59000       27000    Petrol   \n",
       "sx4       2013        4.75000        9.54000       43000    Diesel   \n",
       "ciaz      2017        7.25000        9.85000        6900    Petrol   \n",
       "wagon r   2011        2.85000        4.15000        5200    Petrol   \n",
       "swift     2014        4.60000        6.87000       42450    Diesel   \n",
       "\n",
       "         Seller_Type Transmission  Owner  \n",
       "Car_Name                                  \n",
       "ritz          Dealer       Manual      0  \n",
       "sx4           Dealer       Manual      0  \n",
       "ciaz          Dealer       Manual      0  \n",
       "wagon r       Dealer       Manual      0  \n",
       "swift         Dealer       Manual      0  "
      ]
     },
     "metadata": {},
     "output_type": "display_data"
    }
   ],
   "source": [
    "display(df.head())\n",
    "#Car_Name set as index"
   ]
  },
  {
   "cell_type": "code",
   "execution_count": 41,
   "metadata": {},
   "outputs": [
    {
     "name": "stdout",
     "output_type": "stream",
     "text": [
      "<class 'pandas.core.frame.DataFrame'>\n",
      "Index: 301 entries, ritz to brio\n",
      "Data columns (total 8 columns):\n",
      " #   Column         Non-Null Count  Dtype  \n",
      "---  ------         --------------  -----  \n",
      " 0   Year           301 non-null    int64  \n",
      " 1   Selling_Price  301 non-null    float64\n",
      " 2   Present_Price  301 non-null    float64\n",
      " 3   Kms_Driven     301 non-null    int64  \n",
      " 4   Fuel_Type      301 non-null    object \n",
      " 5   Seller_Type    301 non-null    object \n",
      " 6   Transmission   301 non-null    object \n",
      " 7   Owner          301 non-null    int64  \n",
      "dtypes: float64(2), int64(3), object(3)\n",
      "memory usage: 21.2+ KB\n"
     ]
    }
   ],
   "source": [
    "df.info()"
   ]
  },
  {
   "cell_type": "code",
   "execution_count": 43,
   "metadata": {},
   "outputs": [
    {
     "data": {
      "text/plain": [
       "Year             0\n",
       "Selling_Price    0\n",
       "Present_Price    0\n",
       "Kms_Driven       0\n",
       "Fuel_Type        0\n",
       "Seller_Type      0\n",
       "Transmission     0\n",
       "Owner            0\n",
       "dtype: int64"
      ]
     },
     "execution_count": 43,
     "metadata": {},
     "output_type": "execute_result"
    }
   ],
   "source": [
    "df.isnull().sum()"
   ]
  },
  {
   "cell_type": "code",
   "execution_count": 45,
   "metadata": {},
   "outputs": [
    {
     "data": {
      "text/html": [
       "<div>\n",
       "<style scoped>\n",
       "    .dataframe tbody tr th:only-of-type {\n",
       "        vertical-align: middle;\n",
       "    }\n",
       "\n",
       "    .dataframe tbody tr th {\n",
       "        vertical-align: top;\n",
       "    }\n",
       "\n",
       "    .dataframe thead th {\n",
       "        text-align: right;\n",
       "    }\n",
       "</style>\n",
       "<table border=\"1\" class=\"dataframe\">\n",
       "  <thead>\n",
       "    <tr style=\"text-align: right;\">\n",
       "      <th></th>\n",
       "      <th>Selling_Price</th>\n",
       "      <th>Present_Price</th>\n",
       "      <th>Kms_Driven</th>\n",
       "      <th>Fuel_Type</th>\n",
       "      <th>Seller_Type</th>\n",
       "      <th>Transmission</th>\n",
       "      <th>Owner</th>\n",
       "      <th>Car_Age</th>\n",
       "    </tr>\n",
       "    <tr>\n",
       "      <th>Car_Name</th>\n",
       "      <th></th>\n",
       "      <th></th>\n",
       "      <th></th>\n",
       "      <th></th>\n",
       "      <th></th>\n",
       "      <th></th>\n",
       "      <th></th>\n",
       "      <th></th>\n",
       "    </tr>\n",
       "  </thead>\n",
       "  <tbody>\n",
       "    <tr>\n",
       "      <th>ritz</th>\n",
       "      <td>3.35000</td>\n",
       "      <td>5.59000</td>\n",
       "      <td>27000</td>\n",
       "      <td>Petrol</td>\n",
       "      <td>Dealer</td>\n",
       "      <td>Manual</td>\n",
       "      <td>0</td>\n",
       "      <td>11</td>\n",
       "    </tr>\n",
       "    <tr>\n",
       "      <th>sx4</th>\n",
       "      <td>4.75000</td>\n",
       "      <td>9.54000</td>\n",
       "      <td>43000</td>\n",
       "      <td>Diesel</td>\n",
       "      <td>Dealer</td>\n",
       "      <td>Manual</td>\n",
       "      <td>0</td>\n",
       "      <td>12</td>\n",
       "    </tr>\n",
       "    <tr>\n",
       "      <th>ciaz</th>\n",
       "      <td>7.25000</td>\n",
       "      <td>9.85000</td>\n",
       "      <td>6900</td>\n",
       "      <td>Petrol</td>\n",
       "      <td>Dealer</td>\n",
       "      <td>Manual</td>\n",
       "      <td>0</td>\n",
       "      <td>8</td>\n",
       "    </tr>\n",
       "    <tr>\n",
       "      <th>wagon r</th>\n",
       "      <td>2.85000</td>\n",
       "      <td>4.15000</td>\n",
       "      <td>5200</td>\n",
       "      <td>Petrol</td>\n",
       "      <td>Dealer</td>\n",
       "      <td>Manual</td>\n",
       "      <td>0</td>\n",
       "      <td>14</td>\n",
       "    </tr>\n",
       "    <tr>\n",
       "      <th>swift</th>\n",
       "      <td>4.60000</td>\n",
       "      <td>6.87000</td>\n",
       "      <td>42450</td>\n",
       "      <td>Diesel</td>\n",
       "      <td>Dealer</td>\n",
       "      <td>Manual</td>\n",
       "      <td>0</td>\n",
       "      <td>11</td>\n",
       "    </tr>\n",
       "  </tbody>\n",
       "</table>\n",
       "</div>"
      ],
      "text/plain": [
       "          Selling_Price  Present_Price  Kms_Driven Fuel_Type Seller_Type  \\\n",
       "Car_Name                                                                   \n",
       "ritz            3.35000        5.59000       27000    Petrol      Dealer   \n",
       "sx4             4.75000        9.54000       43000    Diesel      Dealer   \n",
       "ciaz            7.25000        9.85000        6900    Petrol      Dealer   \n",
       "wagon r         2.85000        4.15000        5200    Petrol      Dealer   \n",
       "swift           4.60000        6.87000       42450    Diesel      Dealer   \n",
       "\n",
       "         Transmission  Owner  Car_Age  \n",
       "Car_Name                               \n",
       "ritz           Manual      0       11  \n",
       "sx4            Manual      0       12  \n",
       "ciaz           Manual      0        8  \n",
       "wagon r        Manual      0       14  \n",
       "swift          Manual      0       11  "
      ]
     },
     "metadata": {},
     "output_type": "display_data"
    }
   ],
   "source": [
    "from datetime import datetime\n",
    "#Exiscting year is not efficient i.e Car_Age = 5 Years is more appropriate that year = 2017\n",
    "\n",
    "#Creating Car_Age column in data\n",
    "current_year = datetime.now().year\n",
    "df[\"Car_Age\"] = current_year - df[\"Year\"]\n",
    "\n",
    "#dropping Year column\n",
    "df = df.drop(columns=[\"Year\"])\n",
    "\n",
    "display(df.head())"
   ]
  },
  {
   "cell_type": "code",
   "execution_count": 47,
   "metadata": {},
   "outputs": [
    {
     "data": {
      "text/plain": [
       "Car_Name\n",
       "ritz       11\n",
       "sx4        12\n",
       "ciaz        8\n",
       "wagon r    14\n",
       "swift      11\n",
       "           ..\n",
       "city        9\n",
       "brio       10\n",
       "city       16\n",
       "city        8\n",
       "brio        9\n",
       "Name: Car_Age, Length: 301, dtype: int64"
      ]
     },
     "execution_count": 47,
     "metadata": {},
     "output_type": "execute_result"
    }
   ],
   "source": [
    "df[\"Car_Age\"]"
   ]
  },
  {
   "cell_type": "code",
   "execution_count": 49,
   "metadata": {},
   "outputs": [
    {
     "data": {
      "text/plain": [
       "Index(['Selling_Price', 'Present_Price', 'Kms_Driven', 'Owner', 'Car_Age'], dtype='object')"
      ]
     },
     "execution_count": 49,
     "metadata": {},
     "output_type": "execute_result"
    }
   ],
   "source": [
    "#Identify numeric columns\n",
    "df.select_dtypes(include=[\"float64\", \"int64\"]).columns"
   ]
  },
  {
   "cell_type": "code",
   "execution_count": 51,
   "metadata": {},
   "outputs": [
    {
     "data": {
      "text/plain": [
       "Index(['Fuel_Type', 'Seller_Type', 'Transmission'], dtype='object')"
      ]
     },
     "execution_count": 51,
     "metadata": {},
     "output_type": "execute_result"
    }
   ],
   "source": [
    "#Identify non-numeric columns\n",
    "non_numeric_cols = df.select_dtypes(include=[\"object\"]).columns\n",
    "non_numeric_cols"
   ]
  },
  {
   "cell_type": "code",
   "execution_count": 53,
   "metadata": {},
   "outputs": [
    {
     "name": "stdout",
     "output_type": "stream",
     "text": [
      "<class 'pandas.core.frame.DataFrame'>\n",
      "Index: 301 entries, ritz to brio\n",
      "Data columns (total 9 columns):\n",
      " #   Column            Non-Null Count  Dtype  \n",
      "---  ------            --------------  -----  \n",
      " 0   Selling_Price     301 non-null    float64\n",
      " 1   Present_Price     301 non-null    float64\n",
      " 2   Kms_Driven        301 non-null    int64  \n",
      " 3   Seller_Type       301 non-null    int64  \n",
      " 4   Transmission      301 non-null    int64  \n",
      " 5   Owner             301 non-null    int64  \n",
      " 6   Car_Age           301 non-null    int64  \n",
      " 7   Fuel_Type_Diesel  301 non-null    bool   \n",
      " 8   Fuel_Type_Petrol  301 non-null    bool   \n",
      "dtypes: bool(2), float64(2), int64(5)\n",
      "memory usage: 27.5+ KB\n"
     ]
    }
   ],
   "source": [
    "from sklearn.preprocessing import LabelEncoder\n",
    "\n",
    "encoder = {}\n",
    "\n",
    "#Label encoding binary columns\n",
    "binary_cols = [\n",
    "    col for col in non_numeric_cols if df[col].nunique(dropna=True) == 2\n",
    "]\n",
    "for col in binary_cols:\n",
    "    le = LabelEncoder()\n",
    "    df[col] = le.fit_transform(df[col])\n",
    "    encoder[col] = le\n",
    "\n",
    "#One-Hot encoding multi columns\n",
    "multi_cols = [\n",
    "    col for col in non_numeric_cols if df[col].nunique(dropna=True) > 2\n",
    "]\n",
    "\n",
    "df = pd.get_dummies(df, columns=multi_cols, drop_first=True)\n",
    "\n",
    "df.info()"
   ]
  },
  {
   "cell_type": "code",
   "execution_count": 62,
   "metadata": {},
   "outputs": [
    {
     "data": {
      "text/plain": [
       "2"
      ]
     },
     "execution_count": 62,
     "metadata": {},
     "output_type": "execute_result"
    }
   ],
   "source": [
    "df.duplicated().sum()"
   ]
  },
  {
   "cell_type": "code",
   "execution_count": 64,
   "metadata": {},
   "outputs": [],
   "source": [
    "df = df.drop_duplicates()"
   ]
  },
  {
   "cell_type": "code",
   "execution_count": 66,
   "metadata": {},
   "outputs": [
    {
     "name": "stdout",
     "output_type": "stream",
     "text": [
      "0\n",
      "<class 'pandas.core.frame.DataFrame'>\n",
      "Index: 299 entries, ritz to brio\n",
      "Data columns (total 9 columns):\n",
      " #   Column            Non-Null Count  Dtype  \n",
      "---  ------            --------------  -----  \n",
      " 0   Selling_Price     299 non-null    float64\n",
      " 1   Present_Price     299 non-null    float64\n",
      " 2   Kms_Driven        299 non-null    int64  \n",
      " 3   Seller_Type       299 non-null    int64  \n",
      " 4   Transmission      299 non-null    int64  \n",
      " 5   Owner             299 non-null    int64  \n",
      " 6   Car_Age           299 non-null    int64  \n",
      " 7   Fuel_Type_Diesel  299 non-null    bool   \n",
      " 8   Fuel_Type_Petrol  299 non-null    bool   \n",
      "dtypes: bool(2), float64(2), int64(5)\n",
      "memory usage: 19.3+ KB\n"
     ]
    }
   ],
   "source": [
    "print(df.duplicated().sum())\n",
    "df.info()"
   ]
  },
  {
   "cell_type": "markdown",
   "metadata": {},
   "source": [
    "Q2 (Full Model)\n",
    "1. Define target (y) and predictors (X)\n",
    "\n",
    "Target = Selling_Price\n",
    "\n",
    "Predictors = all other columns\n",
    "\n",
    "2. Add intercept\n",
    "\n",
    "Statsmodels requires an explicit constant column for the intercept.\n",
    "\n",
    "3. Fit OLS regression\n",
    "\n",
    "Use sm.OLS → gives detailed stats (coefficients, p-values, R², F-test, etc).\n",
    "\n",
    "4. Interpret results\n",
    "\n",
    "Coefficient → how much Selling_Price changes when that predictor changes by 1 unit, keeping others constant.\n",
    "\n",
    "p-value → significance (p < 0.05 = statistically significant).\n",
    "\n",
    "R² / Adj. R² → how much variance is explained.\n",
    "\n",
    "F-statistic → overall model significance."
   ]
  },
  {
   "cell_type": "code",
   "execution_count": 87,
   "metadata": {},
   "outputs": [
    {
     "name": "stdout",
     "output_type": "stream",
     "text": [
      "const               float64\n",
      "Present_Price       float64\n",
      "Kms_Driven            int64\n",
      "Seller_Type           int64\n",
      "Transmission          int64\n",
      "Owner                 int64\n",
      "Car_Age               int64\n",
      "Fuel_Type_Diesel       bool\n",
      "Fuel_Type_Petrol       bool\n",
      "dtype: object\n"
     ]
    }
   ],
   "source": [
    "print(X.dtypes)"
   ]
  },
  {
   "cell_type": "code",
   "execution_count": 99,
   "metadata": {},
   "outputs": [
    {
     "name": "stdout",
     "output_type": "stream",
     "text": [
      "                            OLS Regression Results                            \n",
      "==============================================================================\n",
      "Dep. Variable:          Selling_Price   R-squared:                       0.880\n",
      "Model:                            OLS   Adj. R-squared:                  0.877\n",
      "Method:                 Least Squares   F-statistic:                     266.2\n",
      "Date:                Mon, 25 Aug 2025   Prob (F-statistic):          9.10e-129\n",
      "Time:                        12:43:52   Log-Likelihood:                -586.87\n",
      "No. Observations:                 299   AIC:                             1192.\n",
      "Df Residuals:                     290   BIC:                             1225.\n",
      "Df Model:                           8                                         \n",
      "Covariance Type:            nonrobust                                         \n",
      "====================================================================================\n",
      "                       coef    std err          t      P>|t|      [0.025      0.975]\n",
      "------------------------------------------------------------------------------------\n",
      "const                6.6801      1.357      4.922      0.000       4.009       9.351\n",
      "Present_Price        0.4333      0.016     27.260      0.000       0.402       0.465\n",
      "Kms_Driven       -6.698e-06    3.2e-06     -2.092      0.037    -1.3e-05   -3.96e-07\n",
      "Seller_Type         -1.1498      0.254     -4.521      0.000      -1.650      -0.649\n",
      "Transmission        -1.3537      0.327     -4.144      0.000      -1.997      -0.711\n",
      "Owner               -0.6576      0.419     -1.570      0.117      -1.482       0.167\n",
      "Car_Age             -0.3933      0.043     -9.242      0.000      -0.477      -0.310\n",
      "Fuel_Type_Diesel     2.4571      1.267      1.939      0.053      -0.036       4.951\n",
      "Fuel_Type_Petrol     0.6300      1.247      0.505      0.614      -1.825       3.085\n",
      "==============================================================================\n",
      "Omnibus:                      106.230   Durbin-Watson:                   1.724\n",
      "Prob(Omnibus):                  0.000   Jarque-Bera (JB):              840.235\n",
      "Skew:                           1.218   Prob(JB):                    3.51e-183\n",
      "Kurtosis:                      10.843   Cond. No.                     1.16e+06\n",
      "==============================================================================\n",
      "\n",
      "Notes:\n",
      "[1] Standard Errors assume that the covariance matrix of the errors is correctly specified.\n",
      "[2] The condition number is large, 1.16e+06. This might indicate that there are\n",
      "strong multicollinearity or other numerical problems.\n"
     ]
    }
   ],
   "source": [
    "# Q2 - Full OLS Model\n",
    "\n",
    "#Define target (y) and predictors (X)\n",
    "y = df[\"Selling_Price\"]\n",
    "X = df.drop(columns=[\"Selling_Price\"])\n",
    "\n",
    "#Add constant (intercept)\n",
    "X = sm.add_constant(X)\n",
    "\n",
    "#Force everything to float (avoid object dtype issues)\n",
    "X = X.astype(float)\n",
    "y = y.astype(float)\n",
    "\n",
    "#Fit full OLS model\n",
    "model = sm.OLS(y, X).fit()\n",
    "\n",
    "#Summary output\n",
    "print(model.summary())\n"
   ]
  },
  {
   "cell_type": "code",
   "execution_count": 114,
   "metadata": {},
   "outputs": [
    {
     "data": {
      "text/html": [
       "<div>\n",
       "<style scoped>\n",
       "    .dataframe tbody tr th:only-of-type {\n",
       "        vertical-align: middle;\n",
       "    }\n",
       "\n",
       "    .dataframe tbody tr th {\n",
       "        vertical-align: top;\n",
       "    }\n",
       "\n",
       "    .dataframe thead th {\n",
       "        text-align: right;\n",
       "    }\n",
       "</style>\n",
       "<table border=\"1\" class=\"dataframe\">\n",
       "  <thead>\n",
       "    <tr style=\"text-align: right;\">\n",
       "      <th></th>\n",
       "      <th>Feature</th>\n",
       "      <th>VIF</th>\n",
       "    </tr>\n",
       "  </thead>\n",
       "  <tbody>\n",
       "    <tr>\n",
       "      <th>0</th>\n",
       "      <td>const</td>\n",
       "      <td>180.00070</td>\n",
       "    </tr>\n",
       "    <tr>\n",
       "      <th>1</th>\n",
       "      <td>Present_Price</td>\n",
       "      <td>1.80695</td>\n",
       "    </tr>\n",
       "    <tr>\n",
       "      <th>2</th>\n",
       "      <td>Kms_Driven</td>\n",
       "      <td>1.51999</td>\n",
       "    </tr>\n",
       "    <tr>\n",
       "      <th>3</th>\n",
       "      <td>Seller_Type</td>\n",
       "      <td>1.44688</td>\n",
       "    </tr>\n",
       "    <tr>\n",
       "      <th>4</th>\n",
       "      <td>Transmission</td>\n",
       "      <td>1.18292</td>\n",
       "    </tr>\n",
       "    <tr>\n",
       "      <th>5</th>\n",
       "      <td>Owner</td>\n",
       "      <td>1.05676</td>\n",
       "    </tr>\n",
       "    <tr>\n",
       "      <th>6</th>\n",
       "      <td>Car_Age</td>\n",
       "      <td>1.48057</td>\n",
       "    </tr>\n",
       "    <tr>\n",
       "      <th>7</th>\n",
       "      <td>Fuel_Type_Diesel</td>\n",
       "      <td>24.52493</td>\n",
       "    </tr>\n",
       "    <tr>\n",
       "      <th>8</th>\n",
       "      <td>Fuel_Type_Petrol</td>\n",
       "      <td>24.38176</td>\n",
       "    </tr>\n",
       "  </tbody>\n",
       "</table>\n",
       "</div>"
      ],
      "text/plain": [
       "            Feature       VIF\n",
       "0             const 180.00070\n",
       "1     Present_Price   1.80695\n",
       "2        Kms_Driven   1.51999\n",
       "3       Seller_Type   1.44688\n",
       "4      Transmission   1.18292\n",
       "5             Owner   1.05676\n",
       "6           Car_Age   1.48057\n",
       "7  Fuel_Type_Diesel  24.52493\n",
       "8  Fuel_Type_Petrol  24.38176"
      ]
     },
     "metadata": {},
     "output_type": "display_data"
    }
   ],
   "source": [
    "from statsmodels.stats.outliers_influence import variance_inflation_factor\n",
    "\n",
    "#Calculate vif for each Feature\n",
    "vif_data = pd.DataFrame()\n",
    "vif_data[\"Feature\"] = X.columns\n",
    "vif_data[\"VIF\"] = [variance_inflation_factor(X.values, i)\n",
    "                  for i in range (X.shape[1])]\n",
    "\n",
    "display(vif_data)"
   ]
  },
  {
   "cell_type": "code",
   "execution_count": 116,
   "metadata": {},
   "outputs": [
    {
     "name": "stdout",
     "output_type": "stream",
     "text": [
      "                            OLS Regression Results                            \n",
      "==============================================================================\n",
      "Dep. Variable:          Selling_Price   R-squared:                       0.879\n",
      "Model:                            OLS   Adj. R-squared:                  0.877\n",
      "Method:                 Least Squares   F-statistic:                     353.7\n",
      "Date:                Mon, 25 Aug 2025   Prob (F-statistic):          9.86e-131\n",
      "Time:                        14:19:14   Log-Likelihood:                -588.26\n",
      "No. Observations:                 299   AIC:                             1191.\n",
      "Df Residuals:                     292   BIC:                             1216.\n",
      "Df Model:                           6                                         \n",
      "Covariance Type:            nonrobust                                         \n",
      "====================================================================================\n",
      "                       coef    std err          t      P>|t|      [0.025      0.975]\n",
      "------------------------------------------------------------------------------------\n",
      "const                7.3986      0.551     13.421      0.000       6.314       8.484\n",
      "Present_Price        0.4320      0.016     27.197      0.000       0.401       0.463\n",
      "Kms_Driven        -6.71e-06   3.21e-06     -2.093      0.037    -1.3e-05   -4.01e-07\n",
      "Seller_Type         -1.1906      0.252     -4.729      0.000      -1.686      -0.695\n",
      "Transmission        -1.3398      0.327     -4.100      0.000      -1.983      -0.697\n",
      "Car_Age             -0.4032      0.042     -9.564      0.000      -0.486      -0.320\n",
      "Fuel_Type_Diesel     1.8474      0.298      6.194      0.000       1.260       2.434\n",
      "==============================================================================\n",
      "Omnibus:                      104.256   Durbin-Watson:                   1.715\n",
      "Prob(Omnibus):                  0.000   Jarque-Bera (JB):              833.695\n",
      "Skew:                           1.185   Prob(JB):                    9.23e-182\n",
      "Kurtosis:                      10.829   Cond. No.                     3.14e+05\n",
      "==============================================================================\n",
      "\n",
      "Notes:\n",
      "[1] Standard Errors assume that the covariance matrix of the errors is correctly specified.\n",
      "[2] The condition number is large, 3.14e+05. This might indicate that there are\n",
      "strong multicollinearity or other numerical problems.\n"
     ]
    }
   ],
   "source": [
    "#Drop one fuel dummy to fix multicollinearity\n",
    "X_reduced = X.drop(columns=[\"Fuel_Type_Petrol\", \"Owner\"])\n",
    "\n",
    "#Fit refined model\n",
    "model_refined = sm.OLS(y, X_reduced).fit()\n",
    "\n",
    "#Refined model summary\n",
    "print(model_refined.summary())"
   ]
  },
  {
   "cell_type": "code",
   "execution_count": 118,
   "metadata": {},
   "outputs": [],
   "source": [
    "#Q3: Residual Analysis (check assumptions: linearity, homoscedasticity, normality)."
   ]
  },
  {
   "cell_type": "code",
   "execution_count": 120,
   "metadata": {},
   "outputs": [
    {
     "name": "stdout",
     "output_type": "stream",
     "text": [
      "Car_Name\n",
      "ritz      -0.50738\n",
      "sx4       -2.15060\n",
      "ciaz       0.20788\n",
      "wagon r    0.67800\n",
      "swift     -1.55407\n",
      "dtype: float64\n"
     ]
    }
   ],
   "source": [
    "#Residuals = y - predicted\n",
    "residuals = model_refined.resid\n",
    "fitted = model_refined.fittedvalues\n",
    "\n",
    "#Quick look\n",
    "print(residuals[:5])"
   ]
  },
  {
   "cell_type": "code",
   "execution_count": 130,
   "metadata": {},
   "outputs": [
    {
     "data": {
      "image/png": "[encoded data removed]",
      "text/plain": [
       "<Figure size 800x500 with 1 Axes>"
      ]
     },
     "metadata": {},
     "output_type": "display_data"
    }
   ],
   "source": [
    "#Residuals vs Fitted Plot (Linearity & Homoscedasticity)\n",
    "\n",
    "import matplotlib.pyplot as plt\n",
    "import seaborn as sns\n",
    "\n",
    "plt.figure(figsize=(8, 5))\n",
    "sns.scatterplot(x=fitted, y=residuals)\n",
    "plt.axhline(0, color=\"red\", linestyle=\"--\")\n",
    "plt.xlabel(\"Fitted values\")\n",
    "plt.ylabel(\"Residuals\")\n",
    "plt.title(\"Residuals vs Fitted\")\n",
    "plt.show()"
   ]
  },
  {
   "cell_type": "code",
   "execution_count": 132,
   "metadata": {},
   "outputs": [
    {
     "data": {
      "image/png": "[encoded data removed]",
      "text/plain": [
       "<Figure size 800x500 with 1 Axes>"
      ]
     },
     "metadata": {},
     "output_type": "display_data"
    }
   ],
   "source": [
    "#Distribution of Residuals (Normality)\n",
    "plt.figure(figsize=(8, 5))\n",
    "sns.histplot(residuals, kde=True, bins=30)\n",
    "plt.title(\"Distribution of Residuals\")\n",
    "plt.show()"
   ]
  },
  {
   "cell_type": "code",
   "execution_count": 138,
   "metadata": {},
   "outputs": [
    {
     "data": {
      "image/png": "[encoded data removed]",
      "text/plain": [
       "<Figure size 640x480 with 1 Axes>"
      ]
     },
     "metadata": {},
     "output_type": "display_data"
    }
   ],
   "source": [
    "#Q-Q Plot (Normality Check)\n",
    "\n",
    "import statsmodels.api as sm\n",
    "\n",
    "sm.qqplot(residuals, line=\"45\", fit=True)\n",
    "plt.title(\"Q-Q plot of Residuals\")\n",
    "plt.show()"
   ]
  },
  {
   "cell_type": "code",
   "execution_count": 140,
   "metadata": {},
   "outputs": [
    {
     "name": "stdout",
     "output_type": "stream",
     "text": [
      "{'Lagrange multiplier statistic': 91.00207452241933, 'p-value': 1.8760598083907726e-17, 'f-value': 21.292364414639803, 'f p-value': 1.0125863794094703e-20}\n"
     ]
    }
   ],
   "source": [
    "#Homoscedasticity Formal Test - Breusch–Pagan Test\n",
    "\n",
    "from statsmodels.stats.diagnostic import het_breuschpagan\n",
    "\n",
    "bp_test = het_breuschpagan(residuals, model_refined.model.exog)\n",
    "labels = ['Lagrange multiplier statistic', 'p-value', 'f-value', 'f p-value']\n",
    "print(dict(zip(labels, bp_test)))\n"
   ]
  },
  {
   "cell_type": "code",
   "execution_count": 142,
   "metadata": {},
   "outputs": [
    {
     "name": "stdout",
     "output_type": "stream",
     "text": [
      "                            OLS Regression Results                            \n",
      "==============================================================================\n",
      "Dep. Variable:          Selling_Price   R-squared:                       0.879\n",
      "Model:                            OLS   Adj. R-squared:                  0.877\n",
      "Method:                 Least Squares   F-statistic:                     164.8\n",
      "Date:                Mon, 25 Aug 2025   Prob (F-statistic):           1.17e-90\n",
      "Time:                        14:47:09   Log-Likelihood:                -588.26\n",
      "No. Observations:                 299   AIC:                             1191.\n",
      "Df Residuals:                     292   BIC:                             1216.\n",
      "Df Model:                           6                                         \n",
      "Covariance Type:                  HC1                                         \n",
      "====================================================================================\n",
      "                       coef    std err          t      P>|t|      [0.025      0.975]\n",
      "------------------------------------------------------------------------------------\n",
      "const                7.3986      0.940      7.871      0.000       5.549       9.249\n",
      "Present_Price        0.4320      0.046      9.367      0.000       0.341       0.523\n",
      "Kms_Driven        -6.71e-06   6.16e-06     -1.090      0.277   -1.88e-05    5.41e-06\n",
      "Seller_Type         -1.1906      0.349     -3.413      0.001      -1.877      -0.504\n",
      "Transmission        -1.3398      0.573     -2.339      0.020      -2.467      -0.213\n",
      "Car_Age             -0.4032      0.055     -7.289      0.000      -0.512      -0.294\n",
      "Fuel_Type_Diesel     1.8474      0.379      4.875      0.000       1.102       2.593\n",
      "==============================================================================\n",
      "Omnibus:                      104.256   Durbin-Watson:                   1.715\n",
      "Prob(Omnibus):                  0.000   Jarque-Bera (JB):              833.695\n",
      "Skew:                           1.185   Prob(JB):                    9.23e-182\n",
      "Kurtosis:                      10.829   Cond. No.                     3.14e+05\n",
      "==============================================================================\n",
      "\n",
      "Notes:\n",
      "[1] Standard Errors are heteroscedasticity robust (HC1)\n",
      "[2] The condition number is large, 3.14e+05. This might indicate that there are\n",
      "strong multicollinearity or other numerical problems.\n"
     ]
    }
   ],
   "source": [
    "# Robust Standard Errors (HAC correction)\n",
    "model_robust = model_refined.get_robustcov_results()\n",
    "print(model_robust.summary())\n"
   ]
  },
  {
   "cell_type": "code",
   "execution_count": 148,
   "metadata": {},
   "outputs": [
    {
     "name": "stdout",
     "output_type": "stream",
     "text": [
      "const               float64\n",
      "Present_Price       float64\n",
      "Kms_Driven            int64\n",
      "Seller_Type           int64\n",
      "Transmission          int64\n",
      "Owner                 int64\n",
      "Car_Age               int64\n",
      "Fuel_Type_Diesel       bool\n",
      "Fuel_Type_Petrol       bool\n",
      "dtype: object\n",
      "Non-numeric columns: []\n"
     ]
    }
   ],
   "source": [
    "# Check dtypes of features\n",
    "print(X.dtypes)\n",
    "\n",
    "# Find any non-numeric\n",
    "non_numeric = X.select_dtypes(include=[\"object\"]).columns\n",
    "print(\"Non-numeric columns:\", non_numeric.tolist())\n"
   ]
  },
  {
   "cell_type": "code",
   "execution_count": 150,
   "metadata": {},
   "outputs": [],
   "source": [
    "X = X.astype(float)\n",
    "y_log = y_log.astype(float)\n"
   ]
  },
  {
   "cell_type": "code",
   "execution_count": 155,
   "metadata": {},
   "outputs": [
    {
     "name": "stdout",
     "output_type": "stream",
     "text": [
      "                            OLS Regression Results                            \n",
      "==============================================================================\n",
      "Dep. Variable:          Selling_Price   R-squared:                       0.371\n",
      "Model:                            OLS   Adj. R-squared:                  0.371\n",
      "Method:                 Least Squares   F-statistic:                     2353.\n",
      "Date:                Mon, 25 Aug 2025   Prob (F-statistic):               0.00\n",
      "Time:                        14:50:55   Log-Likelihood:                -21552.\n",
      "No. Observations:               31913   AIC:                         4.312e+04\n",
      "Df Residuals:                   31904   BIC:                         4.320e+04\n",
      "Df Model:                           8                                         \n",
      "Covariance Type:            nonrobust                                         \n",
      "====================================================================================\n",
      "                       coef    std err          t      P>|t|      [0.025      0.975]\n",
      "------------------------------------------------------------------------------------\n",
      "const                0.5860      0.069      8.538      0.000       0.451       0.721\n",
      "Present_Price        0.0422      0.001     68.509      0.000       0.041       0.043\n",
      "Kms_Driven        7.487e-07   1.61e-07      4.660      0.000    4.34e-07    1.06e-06\n",
      "Seller_Type         -1.2673      0.016    -79.764      0.000      -1.298      -1.236\n",
      "Transmission         0.0596      0.010      6.021      0.000       0.040       0.079\n",
      "Owner               -0.3109      0.034     -9.118      0.000      -0.378      -0.244\n",
      "Car_Age              0.0034      0.001      2.395      0.017       0.001       0.006\n",
      "Fuel_Type_Diesel     0.7282      0.066     10.983      0.000       0.598       0.858\n",
      "Fuel_Type_Petrol     0.6192      0.066      9.372      0.000       0.490       0.749\n",
      "==============================================================================\n",
      "Omnibus:                     1370.536   Durbin-Watson:                   0.322\n",
      "Prob(Omnibus):                  0.000   Jarque-Bera (JB):             2307.460\n",
      "Skew:                          -0.366   Prob(JB):                         0.00\n",
      "Kurtosis:                       4.095   Cond. No.                     2.06e+06\n",
      "==============================================================================\n",
      "\n",
      "Notes:\n",
      "[1] Standard Errors assume that the covariance matrix of the errors is correctly specified.\n",
      "[2] The condition number is large, 2.06e+06. This might indicate that there are\n",
      "strong multicollinearity or other numerical problems.\n"
     ]
    }
   ],
   "source": [
    "# Align y_log and X indices\n",
    "y_log, X = y_log.align(X, join=\"inner\", axis=0)\n",
    "\n",
    "# Fit the log-OLS model\n",
    "model_log = sm.OLS(y_log, X).fit()\n",
    "\n",
    "print(model_log.summary())\n"
   ]
  },
  {
   "cell_type": "code",
   "execution_count": 157,
   "metadata": {},
   "outputs": [
    {
     "data": {
      "image/png": "[encoded data removed]",
      "text/plain": [
       "<Figure size 640x480 with 1 Axes>"
      ]
     },
     "metadata": {},
     "output_type": "display_data"
    }
   ],
   "source": [
    "# Residuals of log model\n",
    "resid_log = model_log.resid\n",
    "fitted_log = model_log.fittedvalues\n",
    "\n",
    "# Plot Residuals vs Fitted\n",
    "import matplotlib.pyplot as plt\n",
    "plt.scatter(fitted_log, resid_log)\n",
    "plt.axhline(0, color=\"red\", linestyle=\"--\")\n",
    "plt.xlabel(\"Fitted values (log scale)\")\n",
    "plt.ylabel(\"Residuals\")\n",
    "plt.title(\"Residuals vs Fitted (Log Model)\")\n",
    "plt.show()\n"
   ]
  },
  {
   "cell_type": "code",
   "execution_count": 159,
   "metadata": {},
   "outputs": [
    {
     "name": "stdout",
     "output_type": "stream",
     "text": [
      "Breusch-Pagan test results (Log Model):\n",
      "{'Lagrange multiplier statistic': 5319.671622393045, 'p-value': 0.0, 'f-value': 797.750854231828, 'f p-value': 0.0}\n"
     ]
    }
   ],
   "source": [
    "from statsmodels.stats.diagnostic import het_breuschpagan\n",
    "\n",
    "# Residuals and fitted values from log model\n",
    "resid_log = model_log.resid\n",
    "exog_log = model_log.model.exog  # predictors used in the model\n",
    "\n",
    "# Breusch-Pagan test\n",
    "bp_test_log = het_breuschpagan(resid_log, exog_log)\n",
    "\n",
    "# Unpack results\n",
    "labels = ['Lagrange multiplier statistic', 'p-value', 'f-value', 'f p-value']\n",
    "bp_results_log = dict(zip(labels, bp_test_log))\n",
    "\n",
    "print(\"Breusch-Pagan test results (Log Model):\")\n",
    "print(bp_results_log)\n"
   ]
  },
  {
   "cell_type": "code",
   "execution_count": 161,
   "metadata": {},
   "outputs": [
    {
     "name": "stdout",
     "output_type": "stream",
     "text": [
      "                            OLS Regression Results                            \n",
      "==============================================================================\n",
      "Dep. Variable:          Selling_Price   R-squared:                       0.371\n",
      "Model:                            OLS   Adj. R-squared:                  0.371\n",
      "Method:                 Least Squares   F-statistic:                     1337.\n",
      "Date:                Mon, 25 Aug 2025   Prob (F-statistic):               0.00\n",
      "Time:                        14:55:21   Log-Likelihood:                -21552.\n",
      "No. Observations:               31913   AIC:                         4.312e+04\n",
      "Df Residuals:                   31904   BIC:                         4.320e+04\n",
      "Df Model:                           8                                         \n",
      "Covariance Type:                  HC3                                         \n",
      "====================================================================================\n",
      "                       coef    std err          t      P>|t|      [0.025      0.975]\n",
      "------------------------------------------------------------------------------------\n",
      "const                0.5860      0.059      9.968      0.000       0.471       0.701\n",
      "Present_Price        0.0422      0.001     56.396      0.000       0.041       0.044\n",
      "Kms_Driven        7.487e-07   2.63e-07      2.848      0.004    2.33e-07    1.26e-06\n",
      "Seller_Type         -1.2673      0.032    -39.618      0.000      -1.330      -1.205\n",
      "Transmission         0.0596      0.010      5.744      0.000       0.039       0.080\n",
      "Owner               -0.3109      0.045     -6.938      0.000      -0.399      -0.223\n",
      "Car_Age              0.0034      0.002      1.663      0.096      -0.001       0.007\n",
      "Fuel_Type_Diesel     0.7282      0.054     13.572      0.000       0.623       0.833\n",
      "Fuel_Type_Petrol     0.6192      0.053     11.597      0.000       0.515       0.724\n",
      "==============================================================================\n",
      "Omnibus:                     1370.536   Durbin-Watson:                   0.322\n",
      "Prob(Omnibus):                  0.000   Jarque-Bera (JB):             2307.460\n",
      "Skew:                          -0.366   Prob(JB):                         0.00\n",
      "Kurtosis:                       4.095   Cond. No.                     2.06e+06\n",
      "==============================================================================\n",
      "\n",
      "Notes:\n",
      "[1] Standard Errors are heteroscedasticity robust (HC3)\n",
      "[2] The condition number is large, 2.06e+06. This might indicate that there are\n",
      "strong multicollinearity or other numerical problems.\n"
     ]
    }
   ],
   "source": [
    "# Robust standard errors (HC3)\n",
    "robust_model = model_log.get_robustcov_results(cov_type='HC3')\n",
    "\n",
    "# Print robust summary\n",
    "print(robust_model.summary())\n"
   ]
  },
  {
   "cell_type": "code",
   "execution_count": 163,
   "metadata": {},
   "outputs": [
    {
     "name": "stdout",
     "output_type": "stream",
     "text": [
      "\n",
      "Final selected features: ['const', 'Present_Price', 'Kms_Driven', 'Seller_Type', 'Transmission', 'Owner', 'Car_Age', 'Fuel_Type_Diesel', 'Fuel_Type_Petrol']\n",
      "                            OLS Regression Results                            \n",
      "==============================================================================\n",
      "Dep. Variable:          Selling_Price   R-squared:                       0.371\n",
      "Model:                            OLS   Adj. R-squared:                  0.371\n",
      "Method:                 Least Squares   F-statistic:                     2353.\n",
      "Date:                Mon, 25 Aug 2025   Prob (F-statistic):               0.00\n",
      "Time:                        14:59:41   Log-Likelihood:                -21552.\n",
      "No. Observations:               31913   AIC:                         4.312e+04\n",
      "Df Residuals:                   31904   BIC:                         4.320e+04\n",
      "Df Model:                           8                                         \n",
      "Covariance Type:            nonrobust                                         \n",
      "====================================================================================\n",
      "                       coef    std err          t      P>|t|      [0.025      0.975]\n",
      "------------------------------------------------------------------------------------\n",
      "const                0.5860      0.069      8.538      0.000       0.451       0.721\n",
      "Present_Price        0.0422      0.001     68.509      0.000       0.041       0.043\n",
      "Kms_Driven        7.487e-07   1.61e-07      4.660      0.000    4.34e-07    1.06e-06\n",
      "Seller_Type         -1.2673      0.016    -79.764      0.000      -1.298      -1.236\n",
      "Transmission         0.0596      0.010      6.021      0.000       0.040       0.079\n",
      "Owner               -0.3109      0.034     -9.118      0.000      -0.378      -0.244\n",
      "Car_Age              0.0034      0.001      2.395      0.017       0.001       0.006\n",
      "Fuel_Type_Diesel     0.7282      0.066     10.983      0.000       0.598       0.858\n",
      "Fuel_Type_Petrol     0.6192      0.066      9.372      0.000       0.490       0.749\n",
      "==============================================================================\n",
      "Omnibus:                     1370.536   Durbin-Watson:                   0.322\n",
      "Prob(Omnibus):                  0.000   Jarque-Bera (JB):             2307.460\n",
      "Skew:                          -0.366   Prob(JB):                         0.00\n",
      "Kurtosis:                       4.095   Cond. No.                     2.06e+06\n",
      "==============================================================================\n",
      "\n",
      "Notes:\n",
      "[1] Standard Errors assume that the covariance matrix of the errors is correctly specified.\n",
      "[2] The condition number is large, 2.06e+06. This might indicate that there are\n",
      "strong multicollinearity or other numerical problems.\n"
     ]
    }
   ],
   "source": [
    "#Backward Elimination (stepwise feature removal by p-value)\n",
    "\n",
    "import statsmodels.api as sm\n",
    "\n",
    "# Copy X and y\n",
    "X_be = X.copy()\n",
    "y_be = y_log.copy()\n",
    "\n",
    "def backward_elimination(X, y, significance_level=0.05):\n",
    "    \"\"\"Perform backward elimination based on p-values.\"\"\"\n",
    "    features = list(X.columns)\n",
    "    while True:\n",
    "        model = sm.OLS(y, X[features]).fit()\n",
    "        p_values = model.pvalues\n",
    "        max_pval = p_values.max()\n",
    "        if max_pval > significance_level:\n",
    "            excluded_feature = p_values.idxmax()\n",
    "            print(f\"Dropping {excluded_feature} (p-value: {max_pval:.4f})\")\n",
    "            features.remove(excluded_feature)\n",
    "        else:\n",
    "            break\n",
    "    return model, features\n",
    "\n",
    "# Run backward elimination\n",
    "model_be, selected_features = backward_elimination(X_be, y_be)\n",
    "\n",
    "print(\"\\nFinal selected features:\", selected_features)\n",
    "print(model_be.summary())\n"
   ]
  },
  {
   "cell_type": "code",
   "execution_count": 165,
   "metadata": {},
   "outputs": [],
   "source": [
    "#Q5 – Build Final Refined Model & Evaluate"
   ]
  },
  {
   "cell_type": "code",
   "execution_count": 167,
   "metadata": {},
   "outputs": [],
   "source": [
    "#Train/Test Split"
   ]
  },
  {
   "cell_type": "code",
   "execution_count": 171,
   "metadata": {},
   "outputs": [],
   "source": [
    "from sklearn.model_selection import train_test_split\n",
    "from sklearn.metrics import mean_squared_error, mean_absolute_error, r2_score\n",
    "import numpy as np"
   ]
  },
  {
   "cell_type": "code",
   "execution_count": 187,
   "metadata": {},
   "outputs": [],
   "source": [
    "for col in X_train.columns:\n",
    "    if X_train[col].dtype == \"object\":\n",
    "        print(f\"⚠️ Column {col} has object dtype. Unique values: {X_train[col].unique()[:10]}\")"
   ]
  },
  {
   "cell_type": "code",
   "execution_count": 189,
   "metadata": {},
   "outputs": [],
   "source": [
    "X[col] = pd.to_numeric(X[col], errors=\"coerce\")"
   ]
  },
  {
   "cell_type": "code",
   "execution_count": 199,
   "metadata": {},
   "outputs": [
    {
     "name": "stdout",
     "output_type": "stream",
     "text": [
      "\n",
      "--- Data Types Before Fix ---\n",
      "int64      7\n",
      "float64    1\n",
      "Name: count, dtype: int64\n",
      "\n",
      "✅ All features are numeric\n",
      "                            OLS Regression Results                            \n",
      "==============================================================================\n",
      "Dep. Variable:          Selling_Price   R-squared:                       0.905\n",
      "Model:                            OLS   Adj. R-squared:                  0.902\n",
      "Method:                 Least Squares   F-statistic:                     273.4\n",
      "Date:                Mon, 25 Aug 2025   Prob (F-statistic):          6.50e-113\n",
      "Time:                        16:16:27   Log-Likelihood:                -3.5847\n",
      "No. Observations:                 239   AIC:                             25.17\n",
      "Df Residuals:                     230   BIC:                             56.46\n",
      "Df Model:                           8                                         \n",
      "Covariance Type:            nonrobust                                         \n",
      "====================================================================================\n",
      "                       coef    std err          t      P>|t|      [0.025      0.975]\n",
      "------------------------------------------------------------------------------------\n",
      "const                2.0965      0.269      7.805      0.000       1.567       2.626\n",
      "Present_Price        0.0392      0.002     16.007      0.000       0.034       0.044\n",
      "Kms_Driven       -4.231e-08   8.11e-07     -0.052      0.958   -1.64e-06    1.56e-06\n",
      "Seller_Type         -0.9225      0.040    -23.045      0.000      -1.001      -0.844\n",
      "Transmission        -0.1297      0.052     -2.503      0.013      -0.232      -0.028\n",
      "Owner               -0.0740      0.099     -0.746      0.456      -0.269       0.121\n",
      "Car_Age             -0.0639      0.008     -8.483      0.000      -0.079      -0.049\n",
      "Fuel_Type_Diesel     0.3409      0.255      1.337      0.182      -0.161       0.843\n",
      "Fuel_Type_Petrol     0.1438      0.252      0.571      0.569      -0.353       0.640\n",
      "==============================================================================\n",
      "Omnibus:                       37.837   Durbin-Watson:                   1.818\n",
      "Prob(Omnibus):                  0.000   Jarque-Bera (JB):              327.114\n",
      "Skew:                          -0.040   Prob(JB):                     9.29e-72\n",
      "Kurtosis:                       8.731   Cond. No.                     1.21e+06\n",
      "==============================================================================\n",
      "\n",
      "Notes:\n",
      "[1] Standard Errors assume that the covariance matrix of the errors is correctly specified.\n",
      "[2] The condition number is large, 1.21e+06. This might indicate that there are\n",
      "strong multicollinearity or other numerical problems.\n",
      "Model Performance on Test Data:\n",
      "RMSE: 1.58\n",
      "MAE : 2.49\n",
      "R²  : 0.904\n"
     ]
    }
   ],
   "source": [
    "#Data prepare\n",
    "X = df.drop(columns=[\"Selling_Price\"])\n",
    "y_log = np.log(df[\"Selling_Price\"] + 1).astype(float)\n",
    "\n",
    "# Convert categorical columns to dummies\n",
    "X = pd.get_dummies(X, drop_first=True)\n",
    "\n",
    "\n",
    "# Convert bool → int (fix for statsmodels)\n",
    "bool_cols = X.select_dtypes(include=['bool']).columns\n",
    "X[bool_cols] = X[bool_cols].astype(int)\n",
    "\n",
    "\n",
    "#Check dtypes\n",
    "print(\"\\n--- Data Types Before Fix ---\")\n",
    "print(X.dtypes.value_counts())\n",
    "\n",
    "# Show non-numeric columns if any\n",
    "non_numeric = X.select_dtypes(include=['object']).columns\n",
    "if len(non_numeric) > 0:\n",
    "    print(\"\\n⚠️ Non-numeric columns found:\")\n",
    "    print(non_numeric)\n",
    "else:\n",
    "    print(\"\\n✅ All features are numeric\")\n",
    "\n",
    "# Force all columns to numeric (coerce errors → NaN)\n",
    "X = X.apply(pd.to_numeric, errors='coerce')\n",
    "\n",
    "# Check if any NaNs introduced\n",
    "if X.isnull().any().any():\n",
    "    print(\"\\n⚠️ NaN values introduced after conversion. Columns with NaN:\")\n",
    "    print(X.columns[X.isnull().any()])\n",
    "\n",
    "#Add constant for OLS\n",
    "X = sm.add_constant(X)\n",
    "\n",
    "#Train Test Split\n",
    "X_train, X_test, y_train, y_test = train_test_split(X, y_log, test_size=0.2, random_state=42)\n",
    "\n",
    "#Fit OLS training data\n",
    "model_log = sm.OLS(y_train, X_train).fit()\n",
    "print(model_log.summary())\n",
    "\n",
    "#Predictions\n",
    "y_pred_log = model_log.predict(X_test)\n",
    "y_pred = np.exp(y_pred_log) - 1\n",
    "y_true = np.exp(y_test) - 1\n",
    "\n",
    "#Evaluation Metrics\n",
    "rmse = np.sqrt(mean_squared_error(y_true, y_pred))\n",
    "mae = mean_squared_error(y_true, y_pred)\n",
    "r2 = r2_score(y_true, y_pred)\n",
    "\n",
    "\n",
    "print(\"Model Performance on Test Data:\")\n",
    "print(f\"RMSE: {rmse:.2f}\")\n",
    "print(f\"MAE : {mae:.2f}\")\n",
    "print(f\"R²  : {r2:.3f}\")"
   ]
  },
  {
   "cell_type": "code",
   "execution_count": 201,
   "metadata": {},
   "outputs": [
    {
     "name": "stdout",
     "output_type": "stream",
     "text": [
      "                            OLS Regression Results                            \n",
      "==============================================================================\n",
      "Dep. Variable:          Selling_Price   R-squared:                       0.898\n",
      "Model:                            OLS   Adj. R-squared:                  0.896\n",
      "Method:                 Least Squares   F-statistic:                     512.4\n",
      "Date:                Mon, 25 Aug 2025   Prob (F-statistic):          1.84e-114\n",
      "Time:                        16:18:54   Log-Likelihood:                -12.445\n",
      "No. Observations:                 239   AIC:                             34.89\n",
      "Df Residuals:                     234   BIC:                             52.27\n",
      "Df Model:                           4                                         \n",
      "Covariance Type:            nonrobust                                         \n",
      "=================================================================================\n",
      "                    coef    std err          t      P>|t|      [0.025      0.975]\n",
      "---------------------------------------------------------------------------------\n",
      "const             2.2675      0.083     27.296      0.000       2.104       2.431\n",
      "Present_Price     0.0431      0.002     18.627      0.000       0.039       0.048\n",
      "Seller_Type      -0.9429      0.040    -23.314      0.000      -1.023      -0.863\n",
      "Transmission     -0.1271      0.053     -2.386      0.018      -0.232      -0.022\n",
      "Car_Age          -0.0655      0.006    -11.110      0.000      -0.077      -0.054\n",
      "==============================================================================\n",
      "Omnibus:                       46.646   Durbin-Watson:                   1.840\n",
      "Prob(Omnibus):                  0.000   Jarque-Bera (JB):              479.028\n",
      "Skew:                          -0.297   Prob(JB):                    9.56e-105\n",
      "Kurtosis:                       9.910   Cond. No.                         80.2\n",
      "==============================================================================\n",
      "\n",
      "Notes:\n",
      "[1] Standard Errors assume that the covariance matrix of the errors is correctly specified.\n",
      "\n",
      "Refined Model Performance on Test Data:\n",
      "RMSE: 1.90\n",
      "MAE : 1.12\n",
      "R²  : 0.861\n"
     ]
    }
   ],
   "source": [
    "# Refine: keep only significant predictors\n",
    "X_refined = X[[\"const\", \"Present_Price\", \"Seller_Type\", \"Transmission\", \"Car_Age\"]]\n",
    "\n",
    "# Train-test split again\n",
    "X_train_r, X_test_r, y_train_r, y_test_r = train_test_split(\n",
    "    X_refined, y_log, test_size=0.2, random_state=42\n",
    ")\n",
    "\n",
    "# Fit refined model\n",
    "model_refined = sm.OLS(y_train_r, X_train_r).fit()\n",
    "print(model_refined.summary())\n",
    "\n",
    "# Predictions\n",
    "y_pred_log_r = model_refined.predict(X_test_r)\n",
    "y_pred_r = np.exp(y_pred_log_r) - 1\n",
    "y_true_r = np.exp(y_test_r) - 1\n",
    "\n",
    "# Evaluation metrics\n",
    "rmse_r = np.sqrt(mean_squared_error(y_true_r, y_pred_r))\n",
    "mae_r = mean_absolute_error(y_true_r, y_pred_r)\n",
    "r2_r = r2_score(y_true_r, y_pred_r)\n",
    "\n",
    "print(\"\\nRefined Model Performance on Test Data:\")\n",
    "print(f\"RMSE: {rmse_r:.2f}\")\n",
    "print(f\"MAE : {mae_r:.2f}\")\n",
    "print(f\"R²  : {r2_r:.3f}\")"
   ]
  },
  {
   "cell_type": "code",
   "execution_count": null,
   "metadata": {},
   "outputs": [],
   "source": [
    "#Plotting to display the results"
   ]
  },
  {
   "cell_type": "code",
   "execution_count": 203,
   "metadata": {},
   "outputs": [
    {
     "data": {
      "image/png": "[encoded data removed]",
      "text/plain": [
       "<Figure size 600x600 with 1 Axes>"
      ]
     },
     "metadata": {},
     "output_type": "display_data"
    },
    {
     "data": {
      "image/png": "[encoded data removed]",
      "text/plain": [
       "<Figure size 600x400 with 1 Axes>"
      ]
     },
     "metadata": {},
     "output_type": "display_data"
    },
    {
     "data": {
      "image/png": "[encoded data removed]",
      "text/plain": [
       "<Figure size 600x400 with 1 Axes>"
      ]
     },
     "metadata": {},
     "output_type": "display_data"
    }
   ],
   "source": [
    "import matplotlib.pyplot as plt\n",
    "import seaborn as sns\n",
    "\n",
    "\n",
    "# 1) Predicted vs Actual\n",
    "plt.figure(figsize=(6,6))\n",
    "plt.scatter(y_true, y_pred, alpha=0.6)\n",
    "plt.plot([y_true.min(), y_true.max()],\n",
    "         [y_true.min(), y_true.max()],\n",
    "         'r--', lw=2)  # perfect prediction line\n",
    "plt.xlabel(\"Actual Selling Price\")\n",
    "plt.ylabel(\"Predicted Selling Price\")\n",
    "plt.title(\"Predicted vs Actual (Refined Model)\")\n",
    "plt.show()\n",
    "\n",
    "\n",
    "# 2) Residuals vs Fitted\n",
    "residuals = y_true - y_pred\n",
    "\n",
    "plt.figure(figsize=(6,4))\n",
    "plt.scatter(y_pred, residuals, alpha=0.6)\n",
    "plt.axhline(0, color='red', linestyle='--', lw=2)\n",
    "plt.xlabel(\"Fitted Values (Predicted Selling Price)\")\n",
    "plt.ylabel(\"Residuals\")\n",
    "plt.title(\"Residuals vs Fitted (Refined Model)\")\n",
    "plt.show()\n",
    "\n",
    "\n",
    "# 3) Distribution of Residuals\n",
    "\n",
    "plt.figure(figsize=(6,4))\n",
    "sns.histplot(residuals, kde=True, bins=30, color=\"skyblue\")\n",
    "plt.axvline(0, color='red', linestyle='--')\n",
    "plt.xlabel(\"Residuals\")\n",
    "plt.title(\"Distribution of Residuals (Refined Model)\")\n",
    "plt.show()\n"
   ]
  },
  {
   "cell_type": "markdown",
   "metadata": {},
   "source": [
    "Summary & Inference\n",
    "1. Data Preprocessing\n",
    "\n",
    "The dataset was cleaned and categorical variables were encoded using Label Encoding and One-Hot Encoding.\n",
    "\n",
    "Log transformation of the target variable (Selling Price) was applied to stabilize variance and reduce heteroscedasticity.\n",
    "\n",
    "\n",
    "2.Model Building\n",
    "\n",
    "An Ordinary Least Squares (OLS) Regression model was initially fitted with all features.\n",
    "\n",
    "Variance Inflation Factor (VIF) analysis was conducted to check for multicollinearity.\n",
    "\n",
    "Backward elimination was used to remove statistically insignificant variables.\n",
    "\n",
    "Finally, a refined model was built with the most significant predictors.\n",
    "\n",
    "\n",
    "3. Key Predictors Identified\n",
    "\n",
    "Present Price (+): Higher original price leads to higher selling price.\n",
    "\n",
    "Seller Type (Dealer vs Individual) (−): Cars sold by individuals tend to have lower prices.\n",
    "\n",
    "Transmission (Manual vs Automatic) (−): Automatic cars have slightly lower resale value.\n",
    "\n",
    "Car Age (−): Older cars have lower resale prices.\n",
    "\n",
    "\n",
    "4. Model Performance\n",
    "\n",
    "Initial Model:\n",
    "\n",
    "R² ≈ 0.905 (90.5% variance explained)\n",
    "\n",
    "RMSE ≈ 1.58, MAE ≈ 2.49\n",
    "\n",
    "Refined Model:\n",
    "\n",
    "R² ≈ 0.861 (86.1% variance explained)\n",
    "\n",
    "RMSE ≈ 1.90, MAE ≈ 1.12\n",
    "\n",
    "👉 While the refined model explains slightly less variance, it is more parsimonious (fewer predictors) and avoids multicollinearity issues.\n",
    "\n",
    "\n",
    "5. Residual Diagnostics\n",
    "\n",
    "Predicted vs Actual Plot: Most predictions align closely with actual values, confirming good model fit.\n",
    "\n",
    "Residuals vs Fitted: Residuals are fairly random around zero, indicating linearity assumption holds.\n",
    "\n",
    "Residual Distribution: Appears approximately normal, validating error normality assumption.\n",
    "\n",
    "\n",
    "6. Final Inference\n",
    "\n",
    "The refined regression model is effective in predicting used car selling prices with high accuracy (R² = 0.861).\n",
    "\n",
    "The most important factors influencing resale price are present price, car age, seller type, and transmission type.\n",
    "\n",
    "Log-transformation improved model stability and reduced heteroscedasticity.\n",
    "\n",
    "This model can be used by car dealers and individuals to estimate fair resale value of cars."
   ]
  },
  {
   "cell_type": "code",
   "execution_count": null,
   "metadata": {},
   "outputs": [],
   "source": []
  }
 ],
 "metadata": {
  "colab": {
   "provenance": []
  },
  "kernelspec": {
   "display_name": "Python [conda env:base] *",
   "language": "python",
   "name": "conda-base-py"
  },
  "language_info": {
   "codemirror_mode": {
    "name": "ipython",
    "version": 3
   },
   "file_extension": ".py",
   "mimetype": "text/x-python",
   "name": "python",
   "nbconvert_exporter": "python",
   "pygments_lexer": "ipython3",
   "version": "3.12.7"
  }
 },
 "nbformat": 4,
 "nbformat_minor": 4
}
